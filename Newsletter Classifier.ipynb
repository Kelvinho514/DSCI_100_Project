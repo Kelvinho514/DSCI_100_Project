{
 "cells": [
  {
   "cell_type": "markdown",
   "id": "1c4b1f09-3a19-4fa2-bf5f-62a971c81fa0",
   "metadata": {},
   "source": [
    "## **How Well Can a Player’s Total Hours Played (played_hours) and their Experience Level Predict Whether They Subscribe to a Games-Related Newsletter?**"
   ]
  },
  {
   "cell_type": "markdown",
   "id": "3cbe345a-124d-4d12-af32-a7c5e755c9be",
   "metadata": {},
   "source": [
    "## Introduction"
   ]
  },
  {
   "cell_type": "markdown",
   "id": "6dfde55d-3733-4118-a6c7-2f484478849f",
   "metadata": {},
   "source": [
    "In the gaming industry, player engagement is critical to a game's long term success. Gaming newsletters often lists out updates, promotes rewards and events, and gives the players an opportunity to provide feedback on the game. Newsletters are a valuable strategy to maintain player interests, and the decisiont to subscribe to a newsletter can reflect a deeper loyalty to the game. Undeerstandint what types of players are more likely to subscribe can help game developers be more efficient in marketing, and player outreach. In this analysis, we will explore **how well can total hours played and self reported experience level predict whether a player subscribes to a games-related newsletter.** Together, these variables may reflect different types of players: casual users who engage briefly versus dedicated players who are more likely to stay connected with game updates. By applying the K nearest neighbors classification model, we aim to predict subscription behavior based on these traits and uncover patterns that could inform game marketing and player engagement strategies."
   ]
  },
  {
   "cell_type": "markdown",
   "id": "514cbeac-13b2-4d34-b05c-5dc347d23af5",
   "metadata": {},
   "source": [
    "### Data Description"
   ]
  },
  {
   "cell_type": "markdown",
   "id": "bb9494f1-c769-46e2-8fd8-1ecf6e8a4651",
   "metadata": {},
   "source": [
    "To explore whether player behavior and experience predict newsletter subscription, we used a dataset containing information on 196 unique players. The dataset includes both behavioral and demographic information about each player. Each observation represents a single player and is uniquely identified by a hashed email address. The dataset contains a total of 7 variables, but this analysis focuses on two predictors: played hours(numerical) and experience (categorical). The outcome variable of interest is subscribe, which indicates whether the player subscribed to a games-related newsletter.\n",
    "\n",
    "The dataset is clean, with each email appearing only once, suggesting no duplicate entries, and no missing values for the main analysis variables. However, a small number of entries are missing values in the Age column (2 out of 196). Another potential concern is class imbalance, as 144 out of 196 players (73%) subscribed to the newsletter, while only 52 did not. This could affect classification performance and will be taken into account during model evaluation.\n",
    "\n",
    "The data appears to have been collected from player activity logs and self-reported survey fields (e.g., experience and gender), though the exact method of data collection is not detailed. Additional variables such as name, gender, and age were available but not used in this analysis."
   ]
  },
  {
   "cell_type": "markdown",
   "id": "9ae60ac4-b763-48b1-b895-6e9c5508f205",
   "metadata": {},
   "source": [
    "## Methods"
   ]
  },
  {
   "cell_type": "markdown",
   "id": "8b10703f-2fa6-4290-81da-e20c1e004b98",
   "metadata": {},
   "source": [
    "### Preprocessing Steps"
   ]
  },
  {
   "cell_type": "markdown",
   "id": "a2c27b69-2ede-4aed-ad03-481bc326f9a3",
   "metadata": {},
   "source": [
    "1. Imported the necessary libraries and loaded the players.csv dataset from Canvas.\n",
    "2. Cleaned and prepared the dataset by re-assigning the experience variable as a factorial.\n",
    "3. Split the data into training and testing sets.\n",
    "4. Used the training set to guide the dedsign of the classifier model."
   ]
  },
  {
   "cell_type": "markdown",
   "id": "f7f24a6c-eb70-488f-9c26-671f2ae51649",
   "metadata": {},
   "source": [
    "### Finding the Best K Value"
   ]
  },
  {
   "cell_type": "markdown",
   "id": "e2e11a4c-2165-4b62-b8d6-c6264b18a94b",
   "metadata": {},
   "source": [
    "Our objective is to determine the optimal number of neighbors (k) for a K-nearest neighbors classifier that yields the highest prediction accuracy. In the following steps, we build a classification model and apply cross-validation to evaluate its performance without using the testing data prematurely.\n",
    "\n",
    "1. To prepare the data for K-nearest neighbors classification, we created a recipe that includes both categorical and numeric predictors. We used step_dummy() to one-hot encode the experience factor, allowing the model to handle categorical inputs appropriately. We also applied step_normalize() to ensure that played_hours is scaled properly. This preprocessing ensures that all predictors contribute meaningfully to distance calculations in the KNN algorithm.\n",
    "\n",
    "2. Next, we perform 10-fold cross-validation on the training data using vfold_cv(). Using multiple folds reduces the risk of overfitting to a single validation split and provides a more reliable estimate of model performance.\n",
    "\n",
    "3. We then define a KNN model with neighbors = tune() to allow for automated tuning of the best k value, rather than selecting one arbitrarily.\n",
    "\n",
    "4. This model and preprocessing recipe are combined into a workflow, which we fit using tune_grid() across a specified range of k values (provided in gridvals). This tuning process is repeated across each fold in the cross-validation.\n",
    "\n",
    "5. To identify the best-performing model, we filter the results for accuracy and create a line plot showing accuracy estimates against different k values."
   ]
  },
  {
   "cell_type": "markdown",
   "id": "ef469982-2ca5-4482-ac5a-df26ff3f4a41",
   "metadata": {},
   "source": [
    "## Preprocessing Steps"
   ]
  },
  {
   "cell_type": "markdown",
   "id": "1685a472-d6d9-40ae-a0c3-225583e31874",
   "metadata": {},
   "source": [
    "### Importing Libraries"
   ]
  },
  {
   "cell_type": "code",
   "execution_count": 196,
   "id": "956eafc7-3e60-4c33-87d0-fae5bf9fa1ba",
   "metadata": {},
   "outputs": [],
   "source": [
    "#\n",
    "library(tidyverse)\n",
    "library(tidymodels)\n",
    "library(repr)\n",
    "library(RColorBrewer)"
   ]
  },
  {
   "cell_type": "markdown",
   "id": "4d4db84c-2118-4da9-a03d-65d5356814c4",
   "metadata": {},
   "source": [
    "### Importing the Dataset"
   ]
  },
  {
   "cell_type": "code",
   "execution_count": 197,
   "id": "d8f424bf-5a24-49c5-aef6-92a18c03295a",
   "metadata": {},
   "outputs": [
    {
     "name": "stderr",
     "output_type": "stream",
     "text": [
      "\u001b[1mRows: \u001b[22m\u001b[34m196\u001b[39m \u001b[1mColumns: \u001b[22m\u001b[34m7\u001b[39m\n",
      "\u001b[36m──\u001b[39m \u001b[1mColumn specification\u001b[22m \u001b[36m────────────────────────────────────────────────────────\u001b[39m\n",
      "\u001b[1mDelimiter:\u001b[22m \",\"\n",
      "\u001b[31mchr\u001b[39m (4): experience, hashedEmail, name, gender\n",
      "\u001b[32mdbl\u001b[39m (2): played_hours, Age\n",
      "\u001b[33mlgl\u001b[39m (1): subscribe\n",
      "\n",
      "\u001b[36mℹ\u001b[39m Use `spec()` to retrieve the full column specification for this data.\n",
      "\u001b[36mℹ\u001b[39m Specify the column types or set `show_col_types = FALSE` to quiet this message.\n"
     ]
    }
   ],
   "source": [
    "players<-read_csv(\"players.csv\")"
   ]
  },
  {
   "cell_type": "markdown",
   "id": "8f1c1481-3837-4d3b-9b90-e6d8a46ae343",
   "metadata": {},
   "source": [
    "### Tidying the Data"
   ]
  },
  {
   "cell_type": "markdown",
   "id": "5be6a73a-4213-44aa-bb99-9061d2061c8c",
   "metadata": {},
   "source": [
    "Before fitting the classification model, we prepared the dataset by ensuring that key variables were correctly formatted for modeling.Specifically, we converted both the experience and subscribe columns to factor variables using the mutate() function.\n",
    "\n",
    "The experience variable, which originally consisted of character strings indicating a player's self-reported skill level (e.g., \"Beginner\", \"Pro\"), was converted into a factor. This allows modeling functions to treat it as a categorical predictor.\n",
    "\n",
    "Similarly, the response variable subscribe, which initially appeared as a logical (TRUE/FALSE) column, was also converted into a factor with two levels. This is a standard requirement for classification models in R, particularly when using the tidymodels framework because classification outcomes must be explicitly specified as categorical."
   ]
  },
  {
   "cell_type": "code",
   "execution_count": 198,
   "id": "9e147a2b-9f57-401f-9cb9-37f9c7c26af1",
   "metadata": {},
   "outputs": [
    {
     "data": {
      "text/html": [
       "<table class=\"dataframe\">\n",
       "<caption>A tibble: 6 × 7</caption>\n",
       "<thead>\n",
       "\t<tr><th scope=col>experience</th><th scope=col>subscribe</th><th scope=col>hashedEmail</th><th scope=col>played_hours</th><th scope=col>name</th><th scope=col>gender</th><th scope=col>Age</th></tr>\n",
       "\t<tr><th scope=col>&lt;fct&gt;</th><th scope=col>&lt;fct&gt;</th><th scope=col>&lt;chr&gt;</th><th scope=col>&lt;dbl&gt;</th><th scope=col>&lt;chr&gt;</th><th scope=col>&lt;chr&gt;</th><th scope=col>&lt;dbl&gt;</th></tr>\n",
       "</thead>\n",
       "<tbody>\n",
       "\t<tr><td>Pro    </td><td>TRUE </td><td>f6daba428a5e19a3d47574858c13550499be23603422e6a0ee9728f8b53e192d</td><td>30.3</td><td>Morgan   </td><td>Male  </td><td> 9</td></tr>\n",
       "\t<tr><td>Veteran</td><td>TRUE </td><td>f3c813577c458ba0dfef80996f8f32c93b6e8af1fa939732842f2312358a88e9</td><td> 3.8</td><td>Christian</td><td>Male  </td><td>17</td></tr>\n",
       "\t<tr><td>Veteran</td><td>FALSE</td><td>b674dd7ee0d24096d1c019615ce4d12b20fcbff12d79d3c5a9d2118eb7ccbb28</td><td> 0.0</td><td>Blake    </td><td>Male  </td><td>17</td></tr>\n",
       "\t<tr><td>Amateur</td><td>TRUE </td><td>23fe711e0e3b77f1da7aa221ab1192afe21648d47d2b4fa7a5a659ff443a0eb5</td><td> 0.7</td><td>Flora    </td><td>Female</td><td>21</td></tr>\n",
       "\t<tr><td>Regular</td><td>TRUE </td><td>7dc01f10bf20671ecfccdac23812b1b415acd42c2147cb0af4d48fcce2420f3e</td><td> 0.1</td><td>Kylie    </td><td>Male  </td><td>21</td></tr>\n",
       "\t<tr><td>Amateur</td><td>TRUE </td><td>f58aad5996a435f16b0284a3b267f973f9af99e7a89bee0430055a44fa92f977</td><td> 0.0</td><td>Adrian   </td><td>Female</td><td>17</td></tr>\n",
       "</tbody>\n",
       "</table>\n"
      ],
      "text/latex": [
       "A tibble: 6 × 7\n",
       "\\begin{tabular}{lllllll}\n",
       " experience & subscribe & hashedEmail & played\\_hours & name & gender & Age\\\\\n",
       " <fct> & <fct> & <chr> & <dbl> & <chr> & <chr> & <dbl>\\\\\n",
       "\\hline\n",
       "\t Pro     & TRUE  & f6daba428a5e19a3d47574858c13550499be23603422e6a0ee9728f8b53e192d & 30.3 & Morgan    & Male   &  9\\\\\n",
       "\t Veteran & TRUE  & f3c813577c458ba0dfef80996f8f32c93b6e8af1fa939732842f2312358a88e9 &  3.8 & Christian & Male   & 17\\\\\n",
       "\t Veteran & FALSE & b674dd7ee0d24096d1c019615ce4d12b20fcbff12d79d3c5a9d2118eb7ccbb28 &  0.0 & Blake     & Male   & 17\\\\\n",
       "\t Amateur & TRUE  & 23fe711e0e3b77f1da7aa221ab1192afe21648d47d2b4fa7a5a659ff443a0eb5 &  0.7 & Flora     & Female & 21\\\\\n",
       "\t Regular & TRUE  & 7dc01f10bf20671ecfccdac23812b1b415acd42c2147cb0af4d48fcce2420f3e &  0.1 & Kylie     & Male   & 21\\\\\n",
       "\t Amateur & TRUE  & f58aad5996a435f16b0284a3b267f973f9af99e7a89bee0430055a44fa92f977 &  0.0 & Adrian    & Female & 17\\\\\n",
       "\\end{tabular}\n"
      ],
      "text/markdown": [
       "\n",
       "A tibble: 6 × 7\n",
       "\n",
       "| experience &lt;fct&gt; | subscribe &lt;fct&gt; | hashedEmail &lt;chr&gt; | played_hours &lt;dbl&gt; | name &lt;chr&gt; | gender &lt;chr&gt; | Age &lt;dbl&gt; |\n",
       "|---|---|---|---|---|---|---|\n",
       "| Pro     | TRUE  | f6daba428a5e19a3d47574858c13550499be23603422e6a0ee9728f8b53e192d | 30.3 | Morgan    | Male   |  9 |\n",
       "| Veteran | TRUE  | f3c813577c458ba0dfef80996f8f32c93b6e8af1fa939732842f2312358a88e9 |  3.8 | Christian | Male   | 17 |\n",
       "| Veteran | FALSE | b674dd7ee0d24096d1c019615ce4d12b20fcbff12d79d3c5a9d2118eb7ccbb28 |  0.0 | Blake     | Male   | 17 |\n",
       "| Amateur | TRUE  | 23fe711e0e3b77f1da7aa221ab1192afe21648d47d2b4fa7a5a659ff443a0eb5 |  0.7 | Flora     | Female | 21 |\n",
       "| Regular | TRUE  | 7dc01f10bf20671ecfccdac23812b1b415acd42c2147cb0af4d48fcce2420f3e |  0.1 | Kylie     | Male   | 21 |\n",
       "| Amateur | TRUE  | f58aad5996a435f16b0284a3b267f973f9af99e7a89bee0430055a44fa92f977 |  0.0 | Adrian    | Female | 17 |\n",
       "\n"
      ],
      "text/plain": [
       "  experience subscribe\n",
       "1 Pro        TRUE     \n",
       "2 Veteran    TRUE     \n",
       "3 Veteran    FALSE    \n",
       "4 Amateur    TRUE     \n",
       "5 Regular    TRUE     \n",
       "6 Amateur    TRUE     \n",
       "  hashedEmail                                                      played_hours\n",
       "1 f6daba428a5e19a3d47574858c13550499be23603422e6a0ee9728f8b53e192d 30.3        \n",
       "2 f3c813577c458ba0dfef80996f8f32c93b6e8af1fa939732842f2312358a88e9  3.8        \n",
       "3 b674dd7ee0d24096d1c019615ce4d12b20fcbff12d79d3c5a9d2118eb7ccbb28  0.0        \n",
       "4 23fe711e0e3b77f1da7aa221ab1192afe21648d47d2b4fa7a5a659ff443a0eb5  0.7        \n",
       "5 7dc01f10bf20671ecfccdac23812b1b415acd42c2147cb0af4d48fcce2420f3e  0.1        \n",
       "6 f58aad5996a435f16b0284a3b267f973f9af99e7a89bee0430055a44fa92f977  0.0        \n",
       "  name      gender Age\n",
       "1 Morgan    Male    9 \n",
       "2 Christian Male   17 \n",
       "3 Blake     Male   17 \n",
       "4 Flora     Female 21 \n",
       "5 Kylie     Male   21 \n",
       "6 Adrian    Female 17 "
      ]
     },
     "metadata": {},
     "output_type": "display_data"
    }
   ],
   "source": [
    "players_tidy <- players |>\n",
    "  mutate(experience = as.factor(experience)) |>\n",
    "  mutate(subscribe = as.factor(subscribe))\n",
    "head(players_tidy)"
   ]
  },
  {
   "cell_type": "markdown",
   "id": "4267b32d-0164-4872-b25f-91c635c601af",
   "metadata": {},
   "source": [
    "### Splitting Data into Training and Testing Sets"
   ]
  },
  {
   "cell_type": "markdown",
   "id": "15c7b5c8-cc16-42fb-8434-e9b9590e88c2",
   "metadata": {},
   "source": [
    "To evaluate our model effectively, the dataset was divided into a training set and a testing set using the initial_split() function. Seventy-five percent of the data was allocated to the training set, while the remaining 25% was reserved for final model testing. This split allows me to train and tune the model on one portion of the data while preserving an unseen subset for unbiased evaluation. Stratified sampling was applied based on the subscribe variable using the strata argument. This approach preserved the original proportion of subscribers and non subscribers in both the training and testing sets.\n",
    "\n",
    "The resulting training set (players_training) was used for model building and cross-validation, while the testing set (players_testing) was held out and used only at the end of the analysis to assess the model’s final performance."
   ]
  },
  {
   "cell_type": "code",
   "execution_count": 199,
   "id": "396c7f30-ae14-4735-a70a-5acdbd89b104",
   "metadata": {},
   "outputs": [
    {
     "data": {
      "text/html": [
       "<table class=\"dataframe\">\n",
       "<caption>A tibble: 6 × 7</caption>\n",
       "<thead>\n",
       "\t<tr><th scope=col>experience</th><th scope=col>subscribe</th><th scope=col>hashedEmail</th><th scope=col>played_hours</th><th scope=col>name</th><th scope=col>gender</th><th scope=col>Age</th></tr>\n",
       "\t<tr><th scope=col>&lt;fct&gt;</th><th scope=col>&lt;fct&gt;</th><th scope=col>&lt;chr&gt;</th><th scope=col>&lt;dbl&gt;</th><th scope=col>&lt;chr&gt;</th><th scope=col>&lt;chr&gt;</th><th scope=col>&lt;dbl&gt;</th></tr>\n",
       "</thead>\n",
       "<tbody>\n",
       "\t<tr><td>Veteran </td><td>FALSE</td><td>f8acd26a5e452b682b9f8b20108caef1ee2e745efe08e95806980bd2388a3fea</td><td>0.0</td><td>Finn  </td><td>Male             </td><td>23</td></tr>\n",
       "\t<tr><td>Veteran </td><td>FALSE</td><td>88247d9a46fc214a12485dcbcbb03a8ddebfe8c1ec5fe209cd660147625c8e62</td><td>1.4</td><td>Aiden </td><td>Prefer not to say</td><td>25</td></tr>\n",
       "\t<tr><td>Beginner</td><td>FALSE</td><td>fa7d496b2f74c51ec70395bd8397b49f97a3ce8d7ba7e08887d82ec0008137a7</td><td>0.0</td><td>Umar  </td><td>Male             </td><td>24</td></tr>\n",
       "\t<tr><td>Regular </td><td>FALSE</td><td>453774822d52d6891593948224570a750c4334616ff8aa74cd61fad9d4855752</td><td>0.0</td><td>Edmund</td><td>Prefer not to say</td><td>23</td></tr>\n",
       "\t<tr><td>Amateur </td><td>FALSE</td><td>5c27e8b9fed2816b006dc8397ec04470b59339fd591a46a3eb7951b939b72984</td><td>0.9</td><td>Pablo </td><td>Male             </td><td>18</td></tr>\n",
       "\t<tr><td>Beginner</td><td>FALSE</td><td>5e5c25a773be7a62638a163d773534e575a5ad5782104723e53cb676a30fa60b</td><td>0.0</td><td>Jude  </td><td>Female           </td><td>42</td></tr>\n",
       "</tbody>\n",
       "</table>\n"
      ],
      "text/latex": [
       "A tibble: 6 × 7\n",
       "\\begin{tabular}{lllllll}\n",
       " experience & subscribe & hashedEmail & played\\_hours & name & gender & Age\\\\\n",
       " <fct> & <fct> & <chr> & <dbl> & <chr> & <chr> & <dbl>\\\\\n",
       "\\hline\n",
       "\t Veteran  & FALSE & f8acd26a5e452b682b9f8b20108caef1ee2e745efe08e95806980bd2388a3fea & 0.0 & Finn   & Male              & 23\\\\\n",
       "\t Veteran  & FALSE & 88247d9a46fc214a12485dcbcbb03a8ddebfe8c1ec5fe209cd660147625c8e62 & 1.4 & Aiden  & Prefer not to say & 25\\\\\n",
       "\t Beginner & FALSE & fa7d496b2f74c51ec70395bd8397b49f97a3ce8d7ba7e08887d82ec0008137a7 & 0.0 & Umar   & Male              & 24\\\\\n",
       "\t Regular  & FALSE & 453774822d52d6891593948224570a750c4334616ff8aa74cd61fad9d4855752 & 0.0 & Edmund & Prefer not to say & 23\\\\\n",
       "\t Amateur  & FALSE & 5c27e8b9fed2816b006dc8397ec04470b59339fd591a46a3eb7951b939b72984 & 0.9 & Pablo  & Male              & 18\\\\\n",
       "\t Beginner & FALSE & 5e5c25a773be7a62638a163d773534e575a5ad5782104723e53cb676a30fa60b & 0.0 & Jude   & Female            & 42\\\\\n",
       "\\end{tabular}\n"
      ],
      "text/markdown": [
       "\n",
       "A tibble: 6 × 7\n",
       "\n",
       "| experience &lt;fct&gt; | subscribe &lt;fct&gt; | hashedEmail &lt;chr&gt; | played_hours &lt;dbl&gt; | name &lt;chr&gt; | gender &lt;chr&gt; | Age &lt;dbl&gt; |\n",
       "|---|---|---|---|---|---|---|\n",
       "| Veteran  | FALSE | f8acd26a5e452b682b9f8b20108caef1ee2e745efe08e95806980bd2388a3fea | 0.0 | Finn   | Male              | 23 |\n",
       "| Veteran  | FALSE | 88247d9a46fc214a12485dcbcbb03a8ddebfe8c1ec5fe209cd660147625c8e62 | 1.4 | Aiden  | Prefer not to say | 25 |\n",
       "| Beginner | FALSE | fa7d496b2f74c51ec70395bd8397b49f97a3ce8d7ba7e08887d82ec0008137a7 | 0.0 | Umar   | Male              | 24 |\n",
       "| Regular  | FALSE | 453774822d52d6891593948224570a750c4334616ff8aa74cd61fad9d4855752 | 0.0 | Edmund | Prefer not to say | 23 |\n",
       "| Amateur  | FALSE | 5c27e8b9fed2816b006dc8397ec04470b59339fd591a46a3eb7951b939b72984 | 0.9 | Pablo  | Male              | 18 |\n",
       "| Beginner | FALSE | 5e5c25a773be7a62638a163d773534e575a5ad5782104723e53cb676a30fa60b | 0.0 | Jude   | Female            | 42 |\n",
       "\n"
      ],
      "text/plain": [
       "  experience subscribe\n",
       "1 Veteran    FALSE    \n",
       "2 Veteran    FALSE    \n",
       "3 Beginner   FALSE    \n",
       "4 Regular    FALSE    \n",
       "5 Amateur    FALSE    \n",
       "6 Beginner   FALSE    \n",
       "  hashedEmail                                                      played_hours\n",
       "1 f8acd26a5e452b682b9f8b20108caef1ee2e745efe08e95806980bd2388a3fea 0.0         \n",
       "2 88247d9a46fc214a12485dcbcbb03a8ddebfe8c1ec5fe209cd660147625c8e62 1.4         \n",
       "3 fa7d496b2f74c51ec70395bd8397b49f97a3ce8d7ba7e08887d82ec0008137a7 0.0         \n",
       "4 453774822d52d6891593948224570a750c4334616ff8aa74cd61fad9d4855752 0.0         \n",
       "5 5c27e8b9fed2816b006dc8397ec04470b59339fd591a46a3eb7951b939b72984 0.9         \n",
       "6 5e5c25a773be7a62638a163d773534e575a5ad5782104723e53cb676a30fa60b 0.0         \n",
       "  name   gender            Age\n",
       "1 Finn   Male              23 \n",
       "2 Aiden  Prefer not to say 25 \n",
       "3 Umar   Male              24 \n",
       "4 Edmund Prefer not to say 23 \n",
       "5 Pablo  Male              18 \n",
       "6 Jude   Female            42 "
      ]
     },
     "metadata": {},
     "output_type": "display_data"
    }
   ],
   "source": [
    "players_split <- initial_split(players_tidy , prop = 0.75, strata = subscribe)\n",
    "players_training <- training(players_split)\n",
    "players_testing <- testing(players_split)\n",
    "\n",
    "head(players_training)"
   ]
  },
  {
   "cell_type": "markdown",
   "id": "43bb647f-8e59-4eee-afa9-86365cb65022",
   "metadata": {},
   "source": [
    "### Summarizing the Data"
   ]
  },
  {
   "cell_type": "markdown",
   "id": "e71790f2-90b7-4a6d-a959-9943cfb1a986",
   "metadata": {},
   "source": [
    "An initial exploration of the training and testing datasets was conducted to examine the distribution of key variables across subscription status. The experience variable was summarized using grouped counts within each level of the subscribe outcome for both the training and testing sets. The results showed that the distribution of experience levels: from Beginner to Veteran, was relatively balanced across both subsets and did not have much nfluence on subscription status. \n",
    "\n",
    "Additionally, the played_hours variable was also summarized. From what was observed, players who subscribed tended to have much higher average hours played compared to those who did not subscribe, suggesting that gameplay engagement may be positively associated with the likelihood of subscription."
   ]
  },
  {
   "cell_type": "code",
   "execution_count": 200,
   "id": "e76f13f2-1325-46cb-b1d7-e22a3b09b171",
   "metadata": {},
   "outputs": [
    {
     "data": {
      "text/html": [
       "<table class=\"dataframe\">\n",
       "<caption>A grouped_df: 10 × 3</caption>\n",
       "<thead>\n",
       "\t<tr><th scope=col>subscribe</th><th scope=col>experience</th><th scope=col>n</th></tr>\n",
       "\t<tr><th scope=col>&lt;fct&gt;</th><th scope=col>&lt;fct&gt;</th><th scope=col>&lt;int&gt;</th></tr>\n",
       "</thead>\n",
       "<tbody>\n",
       "\t<tr><td>FALSE</td><td>Amateur </td><td>14</td></tr>\n",
       "\t<tr><td>FALSE</td><td>Beginner</td><td> 6</td></tr>\n",
       "\t<tr><td>FALSE</td><td>Pro     </td><td> 3</td></tr>\n",
       "\t<tr><td>FALSE</td><td>Regular </td><td> 5</td></tr>\n",
       "\t<tr><td>FALSE</td><td>Veteran </td><td>11</td></tr>\n",
       "\t<tr><td>TRUE </td><td>Amateur </td><td>36</td></tr>\n",
       "\t<tr><td>TRUE </td><td>Beginner</td><td>20</td></tr>\n",
       "\t<tr><td>TRUE </td><td>Pro     </td><td> 9</td></tr>\n",
       "\t<tr><td>TRUE </td><td>Regular </td><td>17</td></tr>\n",
       "\t<tr><td>TRUE </td><td>Veteran </td><td>26</td></tr>\n",
       "</tbody>\n",
       "</table>\n"
      ],
      "text/latex": [
       "A grouped\\_df: 10 × 3\n",
       "\\begin{tabular}{lll}\n",
       " subscribe & experience & n\\\\\n",
       " <fct> & <fct> & <int>\\\\\n",
       "\\hline\n",
       "\t FALSE & Amateur  & 14\\\\\n",
       "\t FALSE & Beginner &  6\\\\\n",
       "\t FALSE & Pro      &  3\\\\\n",
       "\t FALSE & Regular  &  5\\\\\n",
       "\t FALSE & Veteran  & 11\\\\\n",
       "\t TRUE  & Amateur  & 36\\\\\n",
       "\t TRUE  & Beginner & 20\\\\\n",
       "\t TRUE  & Pro      &  9\\\\\n",
       "\t TRUE  & Regular  & 17\\\\\n",
       "\t TRUE  & Veteran  & 26\\\\\n",
       "\\end{tabular}\n"
      ],
      "text/markdown": [
       "\n",
       "A grouped_df: 10 × 3\n",
       "\n",
       "| subscribe &lt;fct&gt; | experience &lt;fct&gt; | n &lt;int&gt; |\n",
       "|---|---|---|\n",
       "| FALSE | Amateur  | 14 |\n",
       "| FALSE | Beginner |  6 |\n",
       "| FALSE | Pro      |  3 |\n",
       "| FALSE | Regular  |  5 |\n",
       "| FALSE | Veteran  | 11 |\n",
       "| TRUE  | Amateur  | 36 |\n",
       "| TRUE  | Beginner | 20 |\n",
       "| TRUE  | Pro      |  9 |\n",
       "| TRUE  | Regular  | 17 |\n",
       "| TRUE  | Veteran  | 26 |\n",
       "\n"
      ],
      "text/plain": [
       "   subscribe experience n \n",
       "1  FALSE     Amateur    14\n",
       "2  FALSE     Beginner    6\n",
       "3  FALSE     Pro         3\n",
       "4  FALSE     Regular     5\n",
       "5  FALSE     Veteran    11\n",
       "6  TRUE      Amateur    36\n",
       "7  TRUE      Beginner   20\n",
       "8  TRUE      Pro         9\n",
       "9  TRUE      Regular    17\n",
       "10 TRUE      Veteran    26"
      ]
     },
     "metadata": {},
     "output_type": "display_data"
    },
    {
     "data": {
      "text/html": [
       "<table class=\"dataframe\">\n",
       "<caption>A grouped_df: 10 × 3</caption>\n",
       "<thead>\n",
       "\t<tr><th scope=col>subscribe</th><th scope=col>experience</th><th scope=col>n</th></tr>\n",
       "\t<tr><th scope=col>&lt;fct&gt;</th><th scope=col>&lt;fct&gt;</th><th scope=col>&lt;int&gt;</th></tr>\n",
       "</thead>\n",
       "<tbody>\n",
       "\t<tr><td>FALSE</td><td>Amateur </td><td> 4</td></tr>\n",
       "\t<tr><td>FALSE</td><td>Beginner</td><td> 2</td></tr>\n",
       "\t<tr><td>FALSE</td><td>Pro     </td><td> 1</td></tr>\n",
       "\t<tr><td>FALSE</td><td>Regular </td><td> 2</td></tr>\n",
       "\t<tr><td>FALSE</td><td>Veteran </td><td> 4</td></tr>\n",
       "\t<tr><td>TRUE </td><td>Amateur </td><td> 9</td></tr>\n",
       "\t<tr><td>TRUE </td><td>Beginner</td><td> 7</td></tr>\n",
       "\t<tr><td>TRUE </td><td>Pro     </td><td> 1</td></tr>\n",
       "\t<tr><td>TRUE </td><td>Regular </td><td>12</td></tr>\n",
       "\t<tr><td>TRUE </td><td>Veteran </td><td> 7</td></tr>\n",
       "</tbody>\n",
       "</table>\n"
      ],
      "text/latex": [
       "A grouped\\_df: 10 × 3\n",
       "\\begin{tabular}{lll}\n",
       " subscribe & experience & n\\\\\n",
       " <fct> & <fct> & <int>\\\\\n",
       "\\hline\n",
       "\t FALSE & Amateur  &  4\\\\\n",
       "\t FALSE & Beginner &  2\\\\\n",
       "\t FALSE & Pro      &  1\\\\\n",
       "\t FALSE & Regular  &  2\\\\\n",
       "\t FALSE & Veteran  &  4\\\\\n",
       "\t TRUE  & Amateur  &  9\\\\\n",
       "\t TRUE  & Beginner &  7\\\\\n",
       "\t TRUE  & Pro      &  1\\\\\n",
       "\t TRUE  & Regular  & 12\\\\\n",
       "\t TRUE  & Veteran  &  7\\\\\n",
       "\\end{tabular}\n"
      ],
      "text/markdown": [
       "\n",
       "A grouped_df: 10 × 3\n",
       "\n",
       "| subscribe &lt;fct&gt; | experience &lt;fct&gt; | n &lt;int&gt; |\n",
       "|---|---|---|\n",
       "| FALSE | Amateur  |  4 |\n",
       "| FALSE | Beginner |  2 |\n",
       "| FALSE | Pro      |  1 |\n",
       "| FALSE | Regular  |  2 |\n",
       "| FALSE | Veteran  |  4 |\n",
       "| TRUE  | Amateur  |  9 |\n",
       "| TRUE  | Beginner |  7 |\n",
       "| TRUE  | Pro      |  1 |\n",
       "| TRUE  | Regular  | 12 |\n",
       "| TRUE  | Veteran  |  7 |\n",
       "\n"
      ],
      "text/plain": [
       "   subscribe experience n \n",
       "1  FALSE     Amateur     4\n",
       "2  FALSE     Beginner    2\n",
       "3  FALSE     Pro         1\n",
       "4  FALSE     Regular     2\n",
       "5  FALSE     Veteran     4\n",
       "6  TRUE      Amateur     9\n",
       "7  TRUE      Beginner    7\n",
       "8  TRUE      Pro         1\n",
       "9  TRUE      Regular    12\n",
       "10 TRUE      Veteran     7"
      ]
     },
     "metadata": {},
     "output_type": "display_data"
    },
    {
     "data": {
      "text/html": [
       "<table class=\"dataframe\">\n",
       "<caption>A tibble: 2 × 3</caption>\n",
       "<thead>\n",
       "\t<tr><th scope=col>subscribe</th><th scope=col>mean_hours</th><th scope=col>n_of_patients</th></tr>\n",
       "\t<tr><th scope=col>&lt;fct&gt;</th><th scope=col>&lt;dbl&gt;</th><th scope=col>&lt;int&gt;</th></tr>\n",
       "</thead>\n",
       "<tbody>\n",
       "\t<tr><td>FALSE</td><td>0.4153846</td><td> 39</td></tr>\n",
       "\t<tr><td>TRUE </td><td>6.4009259</td><td>108</td></tr>\n",
       "</tbody>\n",
       "</table>\n"
      ],
      "text/latex": [
       "A tibble: 2 × 3\n",
       "\\begin{tabular}{lll}\n",
       " subscribe & mean\\_hours & n\\_of\\_patients\\\\\n",
       " <fct> & <dbl> & <int>\\\\\n",
       "\\hline\n",
       "\t FALSE & 0.4153846 &  39\\\\\n",
       "\t TRUE  & 6.4009259 & 108\\\\\n",
       "\\end{tabular}\n"
      ],
      "text/markdown": [
       "\n",
       "A tibble: 2 × 3\n",
       "\n",
       "| subscribe &lt;fct&gt; | mean_hours &lt;dbl&gt; | n_of_patients &lt;int&gt; |\n",
       "|---|---|---|\n",
       "| FALSE | 0.4153846 |  39 |\n",
       "| TRUE  | 6.4009259 | 108 |\n",
       "\n"
      ],
      "text/plain": [
       "  subscribe mean_hours n_of_patients\n",
       "1 FALSE     0.4153846   39          \n",
       "2 TRUE      6.4009259  108          "
      ]
     },
     "metadata": {},
     "output_type": "display_data"
    },
    {
     "data": {
      "text/html": [
       "<table class=\"dataframe\">\n",
       "<caption>A tibble: 2 × 3</caption>\n",
       "<thead>\n",
       "\t<tr><th scope=col>subscribe</th><th scope=col>mean_hours</th><th scope=col>n_of_patients</th></tr>\n",
       "\t<tr><th scope=col>&lt;fct&gt;</th><th scope=col>&lt;dbl&gt;</th><th scope=col>&lt;int&gt;</th></tr>\n",
       "</thead>\n",
       "<tbody>\n",
       "\t<tr><td>FALSE</td><td> 0.7615385</td><td>13</td></tr>\n",
       "\t<tr><td>TRUE </td><td>11.9000000</td><td>36</td></tr>\n",
       "</tbody>\n",
       "</table>\n"
      ],
      "text/latex": [
       "A tibble: 2 × 3\n",
       "\\begin{tabular}{lll}\n",
       " subscribe & mean\\_hours & n\\_of\\_patients\\\\\n",
       " <fct> & <dbl> & <int>\\\\\n",
       "\\hline\n",
       "\t FALSE &  0.7615385 & 13\\\\\n",
       "\t TRUE  & 11.9000000 & 36\\\\\n",
       "\\end{tabular}\n"
      ],
      "text/markdown": [
       "\n",
       "A tibble: 2 × 3\n",
       "\n",
       "| subscribe &lt;fct&gt; | mean_hours &lt;dbl&gt; | n_of_patients &lt;int&gt; |\n",
       "|---|---|---|\n",
       "| FALSE |  0.7615385 | 13 |\n",
       "| TRUE  | 11.9000000 | 36 |\n",
       "\n"
      ],
      "text/plain": [
       "  subscribe mean_hours n_of_patients\n",
       "1 FALSE      0.7615385 13           \n",
       "2 TRUE      11.9000000 36           "
      ]
     },
     "metadata": {},
     "output_type": "display_data"
    }
   ],
   "source": [
    "players_training_experience <- player_training %>%\n",
    "                    group_by(subscribe) %>%\n",
    "                    count(experience, subscribe)\n",
    "players_testing_experience <- player_testing %>%\n",
    "                    group_by(subscribe) %>%\n",
    "                    count(experience, subscribe)\n",
    "players_training_hours <- player_training %>%\n",
    "                    group_by(subscribe) %>%\n",
    "                    summarize(mean_hours = mean(played_hours),\n",
    "                              n_of_patients = n())\n",
    "players_testing_hours <- player_testing %>%\n",
    "                    group_by(subscribe) %>%\n",
    "                    summarize(mean_hours = mean(played_hours),\n",
    "                              n_of_patients = n())\n",
    "\n",
    "players_training_experience\n",
    "players_testing_experience\n",
    "players_training_hours\n",
    "players_testing_hours"
   ]
  },
  {
   "cell_type": "markdown",
   "id": "6fcabcf8-7960-4bf5-bd90-76a2a939faa5",
   "metadata": {},
   "source": [
    "### Finding the Best K Value\n",
    "\n",
    "To build a classification model capable of predicting newsletter subscription based on player experience and total hours played, a KNN classifier was implemented. A preprocessing recipe was defined using the recipe() function, including encoding of cateogrical variables via step_dummy() and normalizinggnumeric predictors using step_normalize. This preprocessing was necessary to ensure that categorical values were appropriately represented. A KNN model specification was created with neighbors = tune(). To identify the optimal value of k, a 10-fold cross-validation procedure was conducted on the training set using the vfold_cv() function. A grid of candidate values for k ranging from 1 to 15 was created using tibble() and passed to the tuning function. The model performance was evaluated based on classification accuracy.\n",
    "\n",
    "As shown in the results, accuracy tended to increase with larger values of k, but would plateau beyond k=15. A final value of k=11 was chosen to balance accuracy and prevent model flattening. As observed, k=11 was the greatest out of all 15 values."
   ]
  },
  {
   "cell_type": "code",
   "execution_count": 218,
   "id": "3a7ece53-27e3-4526-8a07-df3050619ced",
   "metadata": {},
   "outputs": [
    {
     "data": {
      "text/html": [
       "<table class=\"dataframe\">\n",
       "<caption>A tibble: 6 × 2</caption>\n",
       "<thead>\n",
       "\t<tr><th scope=col>neighbors</th><th scope=col>mean</th></tr>\n",
       "\t<tr><th scope=col>&lt;int&gt;</th><th scope=col>&lt;dbl&gt;</th></tr>\n",
       "</thead>\n",
       "<tbody>\n",
       "\t<tr><td>11</td><td>0.7007326</td></tr>\n",
       "\t<tr><td>12</td><td>0.7001832</td></tr>\n",
       "\t<tr><td>15</td><td>0.6940659</td></tr>\n",
       "\t<tr><td>14</td><td>0.6935897</td></tr>\n",
       "\t<tr><td>13</td><td>0.6863736</td></tr>\n",
       "\t<tr><td>10</td><td>0.6540659</td></tr>\n",
       "</tbody>\n",
       "</table>\n"
      ],
      "text/latex": [
       "A tibble: 6 × 2\n",
       "\\begin{tabular}{ll}\n",
       " neighbors & mean\\\\\n",
       " <int> & <dbl>\\\\\n",
       "\\hline\n",
       "\t 11 & 0.7007326\\\\\n",
       "\t 12 & 0.7001832\\\\\n",
       "\t 15 & 0.6940659\\\\\n",
       "\t 14 & 0.6935897\\\\\n",
       "\t 13 & 0.6863736\\\\\n",
       "\t 10 & 0.6540659\\\\\n",
       "\\end{tabular}\n"
      ],
      "text/markdown": [
       "\n",
       "A tibble: 6 × 2\n",
       "\n",
       "| neighbors &lt;int&gt; | mean &lt;dbl&gt; |\n",
       "|---|---|\n",
       "| 11 | 0.7007326 |\n",
       "| 12 | 0.7001832 |\n",
       "| 15 | 0.6940659 |\n",
       "| 14 | 0.6935897 |\n",
       "| 13 | 0.6863736 |\n",
       "| 10 | 0.6540659 |\n",
       "\n"
      ],
      "text/plain": [
       "  neighbors mean     \n",
       "1 11        0.7007326\n",
       "2 12        0.7001832\n",
       "3 15        0.6940659\n",
       "4 14        0.6935897\n",
       "5 13        0.6863736\n",
       "6 10        0.6540659"
      ]
     },
     "metadata": {},
     "output_type": "display_data"
    }
   ],
   "source": [
    "players_recipe <- recipe(subscribe~experience+played_hours, data = player_training) %>%\n",
    "  step_dummy(all_nominal_predictors()) %>%\n",
    "   step_normalize(all_numeric_predictors())\n",
    "\n",
    "knn_spec <- nearest_neighbor(weight_func = \"rectangular\", neighbors = tune()) %>%\n",
    "            set_engine(\"kknn\") %>%\n",
    "            set_mode(\"classification\")\n",
    "\n",
    "players_vfold <- vfold_cv(player_training, v = 10, strata = subscribe)\n",
    "\n",
    "gridvals <- tibble(neighbors = c(1:15))\n",
    "\n",
    "knn_results <- workflow() %>%\n",
    "      add_recipe(players_recipe) %>%\n",
    "      add_model(knn_spec) %>%\n",
    "      tune_grid(resamples = players_vfold, grid = gridvals) %>%\n",
    "      collect_metrics() %>%\n",
    "      filter(.metric == \"accuracy\") %>%\n",
    "      select(neighbors, mean) %>%\n",
    "      arrange(desc(mean))\n",
    "\n",
    "head(knn_results)"
   ]
  },
  {
   "cell_type": "markdown",
   "id": "922527ef-88e8-483c-b7ac-749c03277e6f",
   "metadata": {},
   "source": [
    "### Visualizing Accuracy\n",
    "\n",
    "To assess how the number of neighbors affects model performance, a line plot was created to visualize the relationship between\n",
    "k and classification accuracy. As shown in the figure, The curve begins to flatten at around k=11 where the accuracy reaches its peak before showing small fluctuations. Any additional k past k=11 shows flattening that may indicate a risk of underfitting the model. The graph helps confirm that k=11 is a good neighbors value."
   ]
  },
  {
   "cell_type": "code",
   "execution_count": 231,
   "id": "527d40a9-7b2d-4971-a8bf-63a42e4d2df3",
   "metadata": {},
   "outputs": [
    {
     "data": {
      "application/pdf": "[encoded data removed]",
      "image/jpeg": "[encoded data removed]",
      "image/png": "[encoded data removed]",
      "image/svg+xml": [
       "<?xml version=\"1.0\" encoding=\"UTF-8\"?>\n",
       "<svg xmlns=\"http://www.w3.org/2000/svg\" xmlns:xlink=\"http://www.w3.org/1999/xlink\" width=\"504\" height=\"504\" viewBox=\"0 0 504 504\">\n",
       "<defs>\n",
       "<g>\n",
       "<g id=\"glyph-0-0\">\n",
       "<path d=\"M 6.203125 -4.125 C 6.203125 -3.332031 6.125 -2.664062 5.96875 -2.125 C 5.820312 -1.582031 5.617188 -1.144531 5.359375 -0.8125 C 5.097656 -0.476562 4.789062 -0.238281 4.4375 -0.09375 C 4.09375 0.0507812 3.722656 0.125 3.328125 0.125 C 2.921875 0.125 2.539062 0.0507812 2.1875 -0.09375 C 1.84375 -0.238281 1.539062 -0.476562 1.28125 -0.8125 C 1.03125 -1.144531 0.832031 -1.582031 0.6875 -2.125 C 0.539062 -2.664062 0.46875 -3.332031 0.46875 -4.125 C 0.46875 -4.957031 0.539062 -5.644531 0.6875 -6.1875 C 0.832031 -6.738281 1.035156 -7.175781 1.296875 -7.5 C 1.554688 -7.820312 1.859375 -8.046875 2.203125 -8.171875 C 2.554688 -8.304688 2.941406 -8.375 3.359375 -8.375 C 3.753906 -8.375 4.125 -8.304688 4.46875 -8.171875 C 4.8125 -8.046875 5.113281 -7.820312 5.375 -7.5 C 5.632812 -7.175781 5.835938 -6.738281 5.984375 -6.1875 C 6.128906 -5.644531 6.203125 -4.957031 6.203125 -4.125 Z M 5.140625 -4.125 C 5.140625 -4.78125 5.097656 -5.328125 5.015625 -5.765625 C 4.941406 -6.203125 4.828125 -6.550781 4.671875 -6.8125 C 4.515625 -7.070312 4.328125 -7.253906 4.109375 -7.359375 C 3.890625 -7.472656 3.640625 -7.53125 3.359375 -7.53125 C 3.054688 -7.53125 2.789062 -7.472656 2.5625 -7.359375 C 2.34375 -7.253906 2.15625 -7.070312 2 -6.8125 C 1.84375 -6.550781 1.722656 -6.203125 1.640625 -5.765625 C 1.566406 -5.328125 1.53125 -4.78125 1.53125 -4.125 C 1.53125 -3.5 1.570312 -2.96875 1.65625 -2.53125 C 1.738281 -2.09375 1.851562 -1.742188 2 -1.484375 C 2.15625 -1.222656 2.34375 -1.035156 2.5625 -0.921875 C 2.789062 -0.804688 3.046875 -0.75 3.328125 -0.75 C 3.609375 -0.75 3.859375 -0.804688 4.078125 -0.921875 C 4.304688 -1.035156 4.492188 -1.222656 4.640625 -1.484375 C 4.796875 -1.742188 4.914062 -2.09375 5 -2.53125 C 5.09375 -2.96875 5.140625 -3.5 5.140625 -4.125 Z M 5.140625 -4.125 \"/>\n",
       "</g>\n",
       "<g id=\"glyph-0-1\">\n",
       "<path d=\"M 1.09375 0 L 1.09375 -1.28125 L 2.234375 -1.28125 L 2.234375 0 Z M 1.09375 0 \"/>\n",
       "</g>\n",
       "<g id=\"glyph-0-2\">\n",
       "<path d=\"M 5.15625 -1.875 L 5.15625 0 L 4.171875 0 L 4.171875 -1.875 L 0.28125 -1.875 L 0.28125 -2.6875 L 4.0625 -8.25 L 5.15625 -8.25 L 5.15625 -2.703125 L 6.328125 -2.703125 L 6.328125 -1.875 Z M 4.171875 -7.0625 C 4.160156 -7.039062 4.140625 -7.003906 4.109375 -6.953125 C 4.078125 -6.898438 4.039062 -6.835938 4 -6.765625 C 3.957031 -6.691406 3.914062 -6.617188 3.875 -6.546875 C 3.84375 -6.472656 3.8125 -6.414062 3.78125 -6.375 L 1.65625 -3.25 C 1.632812 -3.21875 1.601562 -3.175781 1.5625 -3.125 C 1.53125 -3.070312 1.492188 -3.019531 1.453125 -2.96875 C 1.421875 -2.914062 1.382812 -2.863281 1.34375 -2.8125 C 1.300781 -2.769531 1.269531 -2.734375 1.25 -2.703125 L 4.171875 -2.703125 Z M 4.171875 -7.0625 \"/>\n",
       "</g>\n",
       "<g id=\"glyph-0-3\">\n",
       "<path d=\"M 6.171875 -2.6875 C 6.171875 -2.269531 6.109375 -1.890625 5.984375 -1.546875 C 5.859375 -1.203125 5.671875 -0.90625 5.421875 -0.65625 C 5.179688 -0.414062 4.878906 -0.222656 4.515625 -0.078125 C 4.148438 0.0546875 3.722656 0.125 3.234375 0.125 C 2.804688 0.125 2.429688 0.0703125 2.109375 -0.03125 C 1.785156 -0.132812 1.507812 -0.273438 1.28125 -0.453125 C 1.0625 -0.628906 0.882812 -0.835938 0.75 -1.078125 C 0.625 -1.316406 0.535156 -1.570312 0.484375 -1.84375 L 1.546875 -1.96875 C 1.585938 -1.8125 1.644531 -1.660156 1.71875 -1.515625 C 1.800781 -1.367188 1.910156 -1.238281 2.046875 -1.125 C 2.179688 -1.007812 2.347656 -0.914062 2.546875 -0.84375 C 2.742188 -0.78125 2.984375 -0.75 3.265625 -0.75 C 3.535156 -0.75 3.78125 -0.789062 4 -0.875 C 4.226562 -0.957031 4.421875 -1.078125 4.578125 -1.234375 C 4.734375 -1.398438 4.851562 -1.601562 4.9375 -1.84375 C 5.03125 -2.082031 5.078125 -2.359375 5.078125 -2.671875 C 5.078125 -2.921875 5.035156 -3.148438 4.953125 -3.359375 C 4.867188 -3.578125 4.75 -3.765625 4.59375 -3.921875 C 4.445312 -4.078125 4.257812 -4.195312 4.03125 -4.28125 C 3.8125 -4.363281 3.5625 -4.40625 3.28125 -4.40625 C 3.113281 -4.40625 2.953125 -4.390625 2.796875 -4.359375 C 2.648438 -4.328125 2.515625 -4.285156 2.390625 -4.234375 C 2.265625 -4.179688 2.148438 -4.117188 2.046875 -4.046875 C 1.941406 -3.972656 1.84375 -3.894531 1.75 -3.8125 L 0.71875 -3.8125 L 1 -8.25 L 5.6875 -8.25 L 5.6875 -7.359375 L 1.953125 -7.359375 L 1.796875 -4.734375 C 1.984375 -4.878906 2.21875 -5.003906 2.5 -5.109375 C 2.78125 -5.210938 3.113281 -5.265625 3.5 -5.265625 C 3.914062 -5.265625 4.285156 -5.203125 4.609375 -5.078125 C 4.941406 -4.953125 5.222656 -4.773438 5.453125 -4.546875 C 5.679688 -4.316406 5.859375 -4.046875 5.984375 -3.734375 C 6.109375 -3.421875 6.171875 -3.070312 6.171875 -2.6875 Z M 6.171875 -2.6875 \"/>\n",
       "</g>\n",
       "<g id=\"glyph-0-4\">\n",
       "<path d=\"M 6.140625 -2.703125 C 6.140625 -2.285156 6.082031 -1.90625 5.96875 -1.5625 C 5.851562 -1.21875 5.679688 -0.921875 5.453125 -0.671875 C 5.234375 -0.421875 4.957031 -0.222656 4.625 -0.078125 C 4.289062 0.0546875 3.910156 0.125 3.484375 0.125 C 3.003906 0.125 2.582031 0.03125 2.21875 -0.15625 C 1.863281 -0.34375 1.566406 -0.609375 1.328125 -0.953125 C 1.085938 -1.296875 0.90625 -1.71875 0.78125 -2.21875 C 0.664062 -2.726562 0.609375 -3.300781 0.609375 -3.9375 C 0.609375 -4.675781 0.675781 -5.320312 0.8125 -5.875 C 0.945312 -6.425781 1.140625 -6.882812 1.390625 -7.25 C 1.648438 -7.625 1.960938 -7.90625 2.328125 -8.09375 C 2.691406 -8.28125 3.101562 -8.375 3.5625 -8.375 C 3.84375 -8.375 4.101562 -8.34375 4.34375 -8.28125 C 4.59375 -8.226562 4.816406 -8.132812 5.015625 -8 C 5.222656 -7.875 5.398438 -7.703125 5.546875 -7.484375 C 5.703125 -7.273438 5.828125 -7.015625 5.921875 -6.703125 L 4.90625 -6.515625 C 4.800781 -6.867188 4.628906 -7.125 4.390625 -7.28125 C 4.148438 -7.445312 3.867188 -7.53125 3.546875 -7.53125 C 3.265625 -7.53125 3.003906 -7.457031 2.765625 -7.3125 C 2.535156 -7.175781 2.335938 -6.972656 2.171875 -6.703125 C 2.003906 -6.429688 1.875 -6.085938 1.78125 -5.671875 C 1.695312 -5.265625 1.65625 -4.789062 1.65625 -4.25 C 1.851562 -4.601562 2.125 -4.875 2.46875 -5.0625 C 2.8125 -5.25 3.207031 -5.34375 3.65625 -5.34375 C 4.03125 -5.34375 4.367188 -5.28125 4.671875 -5.15625 C 4.984375 -5.03125 5.25 -4.851562 5.46875 -4.625 C 5.6875 -4.40625 5.851562 -4.128906 5.96875 -3.796875 C 6.082031 -3.472656 6.140625 -3.109375 6.140625 -2.703125 Z M 5.078125 -2.65625 C 5.078125 -2.9375 5.039062 -3.191406 4.96875 -3.421875 C 4.894531 -3.660156 4.785156 -3.859375 4.640625 -4.015625 C 4.503906 -4.179688 4.332031 -4.304688 4.125 -4.390625 C 3.925781 -4.484375 3.6875 -4.53125 3.40625 -4.53125 C 3.21875 -4.53125 3.023438 -4.5 2.828125 -4.4375 C 2.628906 -4.382812 2.453125 -4.289062 2.296875 -4.15625 C 2.140625 -4.03125 2.007812 -3.863281 1.90625 -3.65625 C 1.8125 -3.457031 1.765625 -3.207031 1.765625 -2.90625 C 1.765625 -2.601562 1.800781 -2.316406 1.875 -2.046875 C 1.957031 -1.785156 2.070312 -1.554688 2.21875 -1.359375 C 2.363281 -1.171875 2.539062 -1.019531 2.75 -0.90625 C 2.957031 -0.789062 3.191406 -0.734375 3.453125 -0.734375 C 3.703125 -0.734375 3.925781 -0.773438 4.125 -0.859375 C 4.332031 -0.953125 4.503906 -1.082031 4.640625 -1.25 C 4.785156 -1.414062 4.894531 -1.613281 4.96875 -1.84375 C 5.039062 -2.082031 5.078125 -2.351562 5.078125 -2.65625 Z M 5.078125 -2.65625 \"/>\n",
       "</g>\n",
       "<g id=\"glyph-0-5\">\n",
       "<path d=\"M 6.078125 -7.40625 C 5.660156 -6.769531 5.273438 -6.160156 4.921875 -5.578125 C 4.578125 -4.992188 4.28125 -4.40625 4.03125 -3.8125 C 3.78125 -3.21875 3.582031 -2.609375 3.4375 -1.984375 C 3.300781 -1.367188 3.234375 -0.707031 3.234375 0 L 2.140625 0 C 2.140625 -0.65625 2.21875 -1.300781 2.375 -1.9375 C 2.53125 -2.570312 2.738281 -3.195312 3 -3.8125 C 3.269531 -4.425781 3.578125 -5.023438 3.921875 -5.609375 C 4.273438 -6.203125 4.648438 -6.785156 5.046875 -7.359375 L 0.609375 -7.359375 L 0.609375 -8.25 L 6.078125 -8.25 Z M 6.078125 -7.40625 \"/>\n",
       "</g>\n",
       "<g id=\"glyph-0-6\">\n",
       "<path d=\"M 0.921875 0 L 0.921875 -0.890625 L 3.015625 -0.890625 L 3.015625 -7.25 L 1.15625 -5.921875 L 1.15625 -6.921875 L 3.109375 -8.25 L 4.078125 -8.25 L 4.078125 -0.890625 L 6.09375 -0.890625 L 6.09375 0 Z M 0.921875 0 \"/>\n",
       "</g>\n",
       "<g id=\"glyph-1-0\">\n",
       "<path d=\"M 7.921875 0 L 2.40625 -8.796875 C 2.414062 -8.554688 2.425781 -8.316406 2.4375 -8.078125 C 2.445312 -7.878906 2.453125 -7.664062 2.453125 -7.4375 C 2.460938 -7.21875 2.46875 -7.023438 2.46875 -6.859375 L 2.46875 0 L 1.234375 0 L 1.234375 -10.3125 L 2.859375 -10.3125 L 8.4375 -1.46875 C 8.425781 -1.707031 8.410156 -1.945312 8.390625 -2.1875 C 8.378906 -2.394531 8.367188 -2.617188 8.359375 -2.859375 C 8.347656 -3.097656 8.34375 -3.328125 8.34375 -3.546875 L 8.34375 -10.3125 L 9.609375 -10.3125 L 9.609375 0 Z M 7.921875 0 \"/>\n",
       "</g>\n",
       "<g id=\"glyph-1-1\">\n",
       "<path d=\"M 2.015625 -3.6875 C 2.015625 -3.269531 2.054688 -2.882812 2.140625 -2.53125 C 2.234375 -2.1875 2.367188 -1.890625 2.546875 -1.640625 C 2.722656 -1.390625 2.945312 -1.191406 3.21875 -1.046875 C 3.5 -0.910156 3.835938 -0.84375 4.234375 -0.84375 C 4.804688 -0.84375 5.265625 -0.957031 5.609375 -1.1875 C 5.953125 -1.414062 6.1875 -1.707031 6.3125 -2.0625 L 7.46875 -1.734375 C 7.382812 -1.515625 7.265625 -1.289062 7.109375 -1.0625 C 6.960938 -0.84375 6.765625 -0.644531 6.515625 -0.46875 C 6.265625 -0.289062 5.953125 -0.144531 5.578125 -0.03125 C 5.210938 0.0820312 4.765625 0.140625 4.234375 0.140625 C 3.054688 0.140625 2.160156 -0.207031 1.546875 -0.90625 C 0.941406 -1.601562 0.640625 -2.640625 0.640625 -4.015625 C 0.640625 -4.753906 0.726562 -5.378906 0.90625 -5.890625 C 1.09375 -6.410156 1.347656 -6.832031 1.671875 -7.15625 C 1.992188 -7.476562 2.367188 -7.710938 2.796875 -7.859375 C 3.234375 -8.003906 3.695312 -8.078125 4.1875 -8.078125 C 4.84375 -8.078125 5.394531 -7.96875 5.84375 -7.75 C 6.289062 -7.53125 6.648438 -7.234375 6.921875 -6.859375 C 7.191406 -6.484375 7.382812 -6.035156 7.5 -5.515625 C 7.613281 -5.003906 7.671875 -4.453125 7.671875 -3.859375 L 7.671875 -3.6875 Z M 6.3125 -4.6875 C 6.238281 -5.53125 6.023438 -6.140625 5.671875 -6.515625 C 5.328125 -6.898438 4.820312 -7.09375 4.15625 -7.09375 C 3.9375 -7.09375 3.707031 -7.054688 3.46875 -6.984375 C 3.226562 -6.921875 3.003906 -6.796875 2.796875 -6.609375 C 2.585938 -6.429688 2.410156 -6.1875 2.265625 -5.875 C 2.128906 -5.5625 2.050781 -5.164062 2.03125 -4.6875 Z M 6.3125 -4.6875 \"/>\n",
       "</g>\n",
       "<g id=\"glyph-1-2\">\n",
       "<path d=\"M 1 -9.609375 L 1 -10.875 L 2.328125 -10.875 L 2.328125 -9.609375 Z M 1 0 L 1 -7.921875 L 2.328125 -7.921875 L 2.328125 0 Z M 1 0 \"/>\n",
       "</g>\n",
       "<g id=\"glyph-1-3\">\n",
       "<path d=\"M 4.015625 3.109375 C 3.554688 3.109375 3.148438 3.0625 2.796875 2.96875 C 2.453125 2.875 2.15625 2.738281 1.90625 2.5625 C 1.65625 2.394531 1.453125 2.191406 1.296875 1.953125 C 1.140625 1.710938 1.023438 1.445312 0.953125 1.15625 L 2.28125 0.96875 C 2.375 1.332031 2.566406 1.613281 2.859375 1.8125 C 3.160156 2.007812 3.554688 2.109375 4.046875 2.109375 C 4.347656 2.109375 4.617188 2.066406 4.859375 1.984375 C 5.109375 1.898438 5.316406 1.765625 5.484375 1.578125 C 5.660156 1.398438 5.789062 1.164062 5.875 0.875 C 5.96875 0.582031 6.015625 0.222656 6.015625 -0.203125 L 6.015625 -1.46875 L 6 -1.46875 C 5.90625 -1.269531 5.785156 -1.078125 5.640625 -0.890625 C 5.492188 -0.710938 5.316406 -0.550781 5.109375 -0.40625 C 4.910156 -0.269531 4.671875 -0.15625 4.390625 -0.0625 C 4.117188 0.0195312 3.804688 0.0625 3.453125 0.0625 C 2.953125 0.0625 2.519531 -0.0195312 2.15625 -0.1875 C 1.800781 -0.363281 1.507812 -0.617188 1.28125 -0.953125 C 1.050781 -1.285156 0.882812 -1.703125 0.78125 -2.203125 C 0.675781 -2.703125 0.625 -3.285156 0.625 -3.953125 C 0.625 -4.585938 0.675781 -5.15625 0.78125 -5.65625 C 0.882812 -6.164062 1.054688 -6.597656 1.296875 -6.953125 C 1.535156 -7.304688 1.84375 -7.578125 2.21875 -7.765625 C 2.601562 -7.953125 3.066406 -8.046875 3.609375 -8.046875 C 4.171875 -8.046875 4.65625 -7.914062 5.0625 -7.65625 C 5.476562 -7.40625 5.796875 -7.039062 6.015625 -6.5625 L 6.03125 -6.5625 C 6.03125 -6.6875 6.035156 -6.820312 6.046875 -6.96875 C 6.054688 -7.125 6.0625 -7.269531 6.0625 -7.40625 C 6.070312 -7.539062 6.082031 -7.65625 6.09375 -7.75 C 6.101562 -7.851562 6.113281 -7.910156 6.125 -7.921875 L 7.375 -7.921875 C 7.375 -7.878906 7.367188 -7.804688 7.359375 -7.703125 C 7.359375 -7.597656 7.351562 -7.472656 7.34375 -7.328125 C 7.34375 -7.179688 7.335938 -7.015625 7.328125 -6.828125 C 7.328125 -6.648438 7.328125 -6.46875 7.328125 -6.28125 L 7.328125 -0.234375 C 7.328125 0.878906 7.054688 1.710938 6.515625 2.265625 C 5.972656 2.828125 5.140625 3.109375 4.015625 3.109375 Z M 6.015625 -3.96875 C 6.015625 -4.519531 5.953125 -4.988281 5.828125 -5.375 C 5.710938 -5.769531 5.554688 -6.09375 5.359375 -6.34375 C 5.171875 -6.59375 4.953125 -6.773438 4.703125 -6.890625 C 4.453125 -7.003906 4.191406 -7.0625 3.921875 -7.0625 C 3.585938 -7.0625 3.300781 -7.003906 3.0625 -6.890625 C 2.820312 -6.773438 2.617188 -6.59375 2.453125 -6.34375 C 2.296875 -6.09375 2.179688 -5.769531 2.109375 -5.375 C 2.035156 -4.976562 2 -4.507812 2 -3.96875 C 2 -3.394531 2.035156 -2.910156 2.109375 -2.515625 C 2.179688 -2.128906 2.296875 -1.816406 2.453125 -1.578125 C 2.609375 -1.335938 2.804688 -1.164062 3.046875 -1.0625 C 3.285156 -0.96875 3.570312 -0.921875 3.90625 -0.921875 C 4.164062 -0.921875 4.421875 -0.972656 4.671875 -1.078125 C 4.921875 -1.191406 5.144531 -1.367188 5.34375 -1.609375 C 5.550781 -1.859375 5.710938 -2.175781 5.828125 -2.5625 C 5.953125 -2.945312 6.015625 -3.414062 6.015625 -3.96875 Z M 6.015625 -3.96875 \"/>\n",
       "</g>\n",
       "<g id=\"glyph-1-4\">\n",
       "<path d=\"M 2.328125 -6.5625 C 2.472656 -6.832031 2.628906 -7.0625 2.796875 -7.25 C 2.960938 -7.4375 3.148438 -7.59375 3.359375 -7.71875 C 3.566406 -7.84375 3.789062 -7.929688 4.03125 -7.984375 C 4.28125 -8.046875 4.554688 -8.078125 4.859375 -8.078125 C 5.367188 -8.078125 5.785156 -8.003906 6.109375 -7.859375 C 6.429688 -7.722656 6.6875 -7.53125 6.875 -7.28125 C 7.0625 -7.039062 7.191406 -6.75 7.265625 -6.40625 C 7.335938 -6.0625 7.375 -5.6875 7.375 -5.28125 L 7.375 0 L 6.046875 0 L 6.046875 -5.03125 C 6.046875 -5.363281 6.023438 -5.65625 5.984375 -5.90625 C 5.941406 -6.164062 5.859375 -6.378906 5.734375 -6.546875 C 5.617188 -6.710938 5.453125 -6.835938 5.234375 -6.921875 C 5.023438 -7.003906 4.75 -7.046875 4.40625 -7.046875 C 4.09375 -7.046875 3.8125 -6.988281 3.5625 -6.875 C 3.3125 -6.769531 3.097656 -6.613281 2.921875 -6.40625 C 2.742188 -6.195312 2.601562 -5.945312 2.5 -5.65625 C 2.40625 -5.363281 2.359375 -5.035156 2.359375 -4.671875 L 2.359375 0 L 1.046875 0 L 1.046875 -10.875 L 2.359375 -10.875 L 2.359375 -8.046875 C 2.359375 -7.878906 2.351562 -7.710938 2.34375 -7.546875 C 2.34375 -7.390625 2.335938 -7.242188 2.328125 -7.109375 C 2.328125 -6.972656 2.320312 -6.859375 2.3125 -6.765625 C 2.3125 -6.671875 2.304688 -6.601562 2.296875 -6.5625 Z M 2.328125 -6.5625 \"/>\n",
       "</g>\n",
       "<g id=\"glyph-1-5\">\n",
       "<path d=\"M 7.71875 -4 C 7.71875 -1.238281 6.742188 0.140625 4.796875 0.140625 C 4.191406 0.140625 3.691406 0.0351562 3.296875 -0.171875 C 2.898438 -0.390625 2.578125 -0.742188 2.328125 -1.234375 L 2.3125 -1.234375 C 2.3125 -1.109375 2.304688 -0.972656 2.296875 -0.828125 C 2.296875 -0.691406 2.289062 -0.566406 2.28125 -0.453125 C 2.269531 -0.335938 2.257812 -0.238281 2.25 -0.15625 C 2.25 -0.0703125 2.242188 -0.0195312 2.234375 0 L 0.96875 0 C 0.96875 -0.0390625 0.96875 -0.113281 0.96875 -0.21875 C 0.976562 -0.320312 0.984375 -0.445312 0.984375 -0.59375 C 0.992188 -0.75 1 -0.910156 1 -1.078125 C 1.007812 -1.253906 1.015625 -1.441406 1.015625 -1.640625 L 1.015625 -10.875 L 2.328125 -10.875 L 2.328125 -7.765625 C 2.328125 -7.617188 2.328125 -7.476562 2.328125 -7.34375 C 2.328125 -7.21875 2.320312 -7.101562 2.3125 -7 C 2.3125 -6.875 2.304688 -6.757812 2.296875 -6.65625 L 2.328125 -6.65625 C 2.578125 -7.15625 2.898438 -7.515625 3.296875 -7.734375 C 3.703125 -7.960938 4.203125 -8.078125 4.796875 -8.078125 C 5.796875 -8.078125 6.53125 -7.738281 7 -7.0625 C 7.476562 -6.382812 7.71875 -5.363281 7.71875 -4 Z M 6.328125 -3.953125 C 6.328125 -4.503906 6.289062 -4.972656 6.21875 -5.359375 C 6.15625 -5.753906 6.046875 -6.078125 5.890625 -6.328125 C 5.742188 -6.578125 5.550781 -6.757812 5.3125 -6.875 C 5.082031 -6.988281 4.796875 -7.046875 4.453125 -7.046875 C 4.109375 -7.046875 3.800781 -6.988281 3.53125 -6.875 C 3.269531 -6.769531 3.050781 -6.59375 2.875 -6.34375 C 2.695312 -6.09375 2.5625 -5.765625 2.46875 -5.359375 C 2.375 -4.953125 2.328125 -4.457031 2.328125 -3.875 C 2.328125 -3.3125 2.375 -2.835938 2.46875 -2.453125 C 2.5625 -2.066406 2.695312 -1.75 2.875 -1.5 C 3.050781 -1.257812 3.269531 -1.085938 3.53125 -0.984375 C 3.800781 -0.878906 4.109375 -0.828125 4.453125 -0.828125 C 4.765625 -0.828125 5.035156 -0.882812 5.265625 -1 C 5.503906 -1.113281 5.703125 -1.289062 5.859375 -1.53125 C 6.015625 -1.78125 6.128906 -2.101562 6.203125 -2.5 C 6.285156 -2.90625 6.328125 -3.390625 6.328125 -3.953125 Z M 6.328125 -3.953125 \"/>\n",
       "</g>\n",
       "<g id=\"glyph-1-6\">\n",
       "<path d=\"M 7.71875 -3.96875 C 7.71875 -2.582031 7.410156 -1.550781 6.796875 -0.875 C 6.179688 -0.195312 5.296875 0.140625 4.140625 0.140625 C 3.585938 0.140625 3.09375 0.0546875 2.65625 -0.109375 C 2.21875 -0.273438 1.847656 -0.523438 1.546875 -0.859375 C 1.253906 -1.203125 1.023438 -1.628906 0.859375 -2.140625 C 0.703125 -2.660156 0.625 -3.269531 0.625 -3.96875 C 0.625 -6.707031 1.8125 -8.078125 4.1875 -8.078125 C 4.800781 -8.078125 5.332031 -7.988281 5.78125 -7.8125 C 6.226562 -7.644531 6.59375 -7.390625 6.875 -7.046875 C 7.15625 -6.703125 7.363281 -6.273438 7.5 -5.765625 C 7.644531 -5.253906 7.71875 -4.65625 7.71875 -3.96875 Z M 6.328125 -3.96875 C 6.328125 -4.582031 6.28125 -5.085938 6.1875 -5.484375 C 6.09375 -5.890625 5.953125 -6.210938 5.765625 -6.453125 C 5.585938 -6.691406 5.363281 -6.859375 5.09375 -6.953125 C 4.832031 -7.046875 4.535156 -7.09375 4.203125 -7.09375 C 3.867188 -7.09375 3.566406 -7.039062 3.296875 -6.9375 C 3.023438 -6.84375 2.789062 -6.675781 2.59375 -6.4375 C 2.40625 -6.195312 2.257812 -5.875 2.15625 -5.46875 C 2.0625 -5.070312 2.015625 -4.570312 2.015625 -3.96875 C 2.015625 -3.351562 2.066406 -2.84375 2.171875 -2.4375 C 2.285156 -2.039062 2.4375 -1.722656 2.625 -1.484375 C 2.8125 -1.242188 3.03125 -1.070312 3.28125 -0.96875 C 3.539062 -0.875 3.820312 -0.828125 4.125 -0.828125 C 4.457031 -0.828125 4.757812 -0.875 5.03125 -0.96875 C 5.3125 -1.0625 5.546875 -1.226562 5.734375 -1.46875 C 5.921875 -1.707031 6.066406 -2.03125 6.171875 -2.4375 C 6.273438 -2.84375 6.328125 -3.351562 6.328125 -3.96875 Z M 6.328125 -3.96875 \"/>\n",
       "</g>\n",
       "<g id=\"glyph-1-7\">\n",
       "<path d=\"M 1.046875 0 L 1.046875 -6.078125 C 1.046875 -6.242188 1.039062 -6.410156 1.03125 -6.578125 C 1.03125 -6.753906 1.023438 -6.921875 1.015625 -7.078125 C 1.015625 -7.242188 1.007812 -7.394531 1 -7.53125 C 1 -7.675781 1 -7.804688 1 -7.921875 L 2.234375 -7.921875 C 2.242188 -7.804688 2.25 -7.675781 2.25 -7.53125 C 2.257812 -7.394531 2.269531 -7.25 2.28125 -7.09375 C 2.289062 -6.945312 2.296875 -6.800781 2.296875 -6.65625 C 2.296875 -6.519531 2.296875 -6.40625 2.296875 -6.3125 L 2.328125 -6.3125 C 2.421875 -6.613281 2.519531 -6.875 2.625 -7.09375 C 2.726562 -7.3125 2.847656 -7.492188 2.984375 -7.640625 C 3.128906 -7.785156 3.300781 -7.894531 3.5 -7.96875 C 3.695312 -8.039062 3.9375 -8.078125 4.21875 -8.078125 C 4.320312 -8.078125 4.421875 -8.066406 4.515625 -8.046875 C 4.617188 -8.023438 4.695312 -8.007812 4.75 -8 L 4.75 -6.796875 C 4.65625 -6.816406 4.550781 -6.832031 4.4375 -6.84375 C 4.320312 -6.851562 4.191406 -6.859375 4.046875 -6.859375 C 3.742188 -6.859375 3.484375 -6.789062 3.265625 -6.65625 C 3.054688 -6.519531 2.882812 -6.332031 2.75 -6.09375 C 2.613281 -5.851562 2.515625 -5.5625 2.453125 -5.21875 C 2.390625 -4.882812 2.359375 -4.519531 2.359375 -4.125 L 2.359375 0 Z M 1.046875 0 \"/>\n",
       "</g>\n",
       "<g id=\"glyph-1-8\">\n",
       "<path d=\"M 6.953125 -2.1875 C 6.953125 -1.820312 6.878906 -1.492188 6.734375 -1.203125 C 6.597656 -0.910156 6.390625 -0.664062 6.109375 -0.46875 C 5.835938 -0.269531 5.503906 -0.117188 5.109375 -0.015625 C 4.710938 0.0859375 4.257812 0.140625 3.75 0.140625 C 3.28125 0.140625 2.863281 0.101562 2.5 0.03125 C 2.132812 -0.03125 1.8125 -0.140625 1.53125 -0.296875 C 1.25 -0.453125 1.015625 -0.65625 0.828125 -0.90625 C 0.640625 -1.164062 0.503906 -1.484375 0.421875 -1.859375 L 1.578125 -2.09375 C 1.691406 -1.664062 1.925781 -1.351562 2.28125 -1.15625 C 2.632812 -0.957031 3.125 -0.859375 3.75 -0.859375 C 4.03125 -0.859375 4.285156 -0.875 4.515625 -0.90625 C 4.753906 -0.945312 4.957031 -1.015625 5.125 -1.109375 C 5.300781 -1.210938 5.4375 -1.34375 5.53125 -1.5 C 5.625 -1.65625 5.671875 -1.851562 5.671875 -2.09375 C 5.671875 -2.332031 5.613281 -2.523438 5.5 -2.671875 C 5.394531 -2.828125 5.238281 -2.957031 5.03125 -3.0625 C 4.832031 -3.164062 4.585938 -3.253906 4.296875 -3.328125 C 4.015625 -3.398438 3.707031 -3.484375 3.375 -3.578125 C 3.050781 -3.660156 2.734375 -3.753906 2.421875 -3.859375 C 2.109375 -3.960938 1.828125 -4.097656 1.578125 -4.265625 C 1.328125 -4.429688 1.125 -4.640625 0.96875 -4.890625 C 0.8125 -5.140625 0.734375 -5.453125 0.734375 -5.828125 C 0.734375 -6.554688 0.988281 -7.109375 1.5 -7.484375 C 2.019531 -7.859375 2.769531 -8.046875 3.75 -8.046875 C 4.625 -8.046875 5.316406 -7.890625 5.828125 -7.578125 C 6.347656 -7.273438 6.675781 -6.785156 6.8125 -6.109375 L 5.625 -5.96875 C 5.582031 -6.164062 5.503906 -6.332031 5.390625 -6.46875 C 5.273438 -6.613281 5.132812 -6.726562 4.96875 -6.8125 C 4.800781 -6.894531 4.613281 -6.953125 4.40625 -6.984375 C 4.195312 -7.023438 3.976562 -7.046875 3.75 -7.046875 C 3.15625 -7.046875 2.71875 -6.957031 2.4375 -6.78125 C 2.15625 -6.601562 2.015625 -6.332031 2.015625 -5.96875 C 2.015625 -5.75 2.066406 -5.566406 2.171875 -5.421875 C 2.273438 -5.285156 2.421875 -5.171875 2.609375 -5.078125 C 2.796875 -4.984375 3.019531 -4.898438 3.28125 -4.828125 C 3.550781 -4.753906 3.84375 -4.679688 4.15625 -4.609375 C 4.363281 -4.554688 4.578125 -4.5 4.796875 -4.4375 C 5.023438 -4.375 5.238281 -4.300781 5.4375 -4.21875 C 5.644531 -4.132812 5.84375 -4.035156 6.03125 -3.921875 C 6.21875 -3.804688 6.378906 -3.664062 6.515625 -3.5 C 6.648438 -3.34375 6.753906 -3.15625 6.828125 -2.9375 C 6.910156 -2.71875 6.953125 -2.46875 6.953125 -2.1875 Z M 6.953125 -2.1875 \"/>\n",
       "</g>\n",
       "<g id=\"glyph-2-0\">\n",
       "<path d=\"M 0 -8.546875 L -3.015625 -7.375 L -3.015625 -2.671875 L 0 -1.484375 L 0 -0.03125 L -10.3125 -4.234375 L -10.3125 -5.828125 L 0 -9.96875 Z M -7.515625 -5.625 C -7.710938 -5.550781 -7.910156 -5.476562 -8.109375 -5.40625 C -8.304688 -5.332031 -8.488281 -5.269531 -8.65625 -5.21875 C -8.820312 -5.164062 -8.957031 -5.117188 -9.0625 -5.078125 C -9.175781 -5.046875 -9.242188 -5.023438 -9.265625 -5.015625 C -9.242188 -5.003906 -9.175781 -4.984375 -9.0625 -4.953125 C -8.945312 -4.921875 -8.804688 -4.875 -8.640625 -4.8125 C -8.472656 -4.757812 -8.289062 -4.695312 -8.09375 -4.625 C -7.894531 -4.550781 -7.695312 -4.476562 -7.5 -4.40625 L -4.109375 -3.09375 L -4.109375 -6.953125 Z M -7.515625 -5.625 \"/>\n",
       "</g>\n",
       "<g id=\"glyph-2-1\">\n",
       "<path d=\"M -4 -2.015625 C -3.539062 -2.015625 -3.117188 -2.046875 -2.734375 -2.109375 C -2.359375 -2.179688 -2.03125 -2.296875 -1.75 -2.453125 C -1.476562 -2.609375 -1.265625 -2.8125 -1.109375 -3.0625 C -0.960938 -3.320312 -0.890625 -3.640625 -0.890625 -4.015625 C -0.890625 -4.484375 -1.015625 -4.875 -1.265625 -5.1875 C -1.523438 -5.5 -1.921875 -5.691406 -2.453125 -5.765625 L -2.359375 -7.109375 C -2.035156 -7.054688 -1.71875 -6.957031 -1.40625 -6.8125 C -1.101562 -6.664062 -0.835938 -6.46875 -0.609375 -6.21875 C -0.378906 -5.96875 -0.195312 -5.660156 -0.0625 -5.296875 C 0.0703125 -4.941406 0.140625 -4.523438 0.140625 -4.046875 C 0.140625 -3.429688 0.0351562 -2.90625 -0.171875 -2.46875 C -0.378906 -2.03125 -0.664062 -1.675781 -1.03125 -1.40625 C -1.40625 -1.132812 -1.84375 -0.9375 -2.34375 -0.8125 C -2.84375 -0.695312 -3.382812 -0.640625 -3.96875 -0.640625 C -4.5 -0.640625 -4.96875 -0.679688 -5.375 -0.765625 C -5.78125 -0.859375 -6.132812 -0.984375 -6.4375 -1.140625 C -6.75 -1.296875 -7.007812 -1.476562 -7.21875 -1.6875 C -7.425781 -1.90625 -7.59375 -2.140625 -7.71875 -2.390625 C -7.84375 -2.648438 -7.929688 -2.914062 -7.984375 -3.1875 C -8.046875 -3.46875 -8.078125 -3.75 -8.078125 -4.03125 C -8.078125 -4.476562 -8.015625 -4.875 -7.890625 -5.21875 C -7.765625 -5.570312 -7.59375 -5.875 -7.375 -6.125 C -7.164062 -6.375 -6.914062 -6.578125 -6.625 -6.734375 C -6.34375 -6.890625 -6.035156 -7 -5.703125 -7.0625 L -5.609375 -5.703125 C -6.046875 -5.640625 -6.390625 -5.46875 -6.640625 -5.1875 C -6.898438 -4.90625 -7.03125 -4.507812 -7.03125 -4 C -7.03125 -3.625 -6.96875 -3.3125 -6.84375 -3.0625 C -6.726562 -2.8125 -6.539062 -2.609375 -6.28125 -2.453125 C -6.03125 -2.296875 -5.710938 -2.179688 -5.328125 -2.109375 C -4.953125 -2.046875 -4.507812 -2.015625 -4 -2.015625 Z M -4 -2.015625 \"/>\n",
       "</g>\n",
       "<g id=\"glyph-2-2\">\n",
       "<path d=\"M -7.921875 -2.296875 L -2.90625 -2.296875 C -2.519531 -2.296875 -2.195312 -2.320312 -1.9375 -2.375 C -1.675781 -2.4375 -1.460938 -2.53125 -1.296875 -2.65625 C -1.140625 -2.78125 -1.03125 -2.945312 -0.96875 -3.15625 C -0.90625 -3.363281 -0.875 -3.625 -0.875 -3.9375 C -0.875 -4.25 -0.925781 -4.53125 -1.03125 -4.78125 C -1.144531 -5.03125 -1.304688 -5.242188 -1.515625 -5.421875 C -1.722656 -5.597656 -1.976562 -5.734375 -2.28125 -5.828125 C -2.582031 -5.929688 -2.929688 -5.984375 -3.328125 -5.984375 L -7.921875 -5.984375 L -7.921875 -7.296875 L -1.6875 -7.296875 C -1.519531 -7.296875 -1.34375 -7.296875 -1.15625 -7.296875 C -0.976562 -7.304688 -0.804688 -7.3125 -0.640625 -7.3125 C -0.484375 -7.320312 -0.34375 -7.328125 -0.21875 -7.328125 C -0.101562 -7.335938 -0.03125 -7.34375 0 -7.34375 L 0 -6.09375 C -0.0195312 -6.09375 -0.0820312 -6.085938 -0.1875 -6.078125 C -0.300781 -6.078125 -0.425781 -6.070312 -0.5625 -6.0625 C -0.707031 -6.0625 -0.847656 -6.054688 -0.984375 -6.046875 C -1.128906 -6.046875 -1.253906 -6.046875 -1.359375 -6.046875 L -1.359375 -6.015625 C -1.128906 -5.890625 -0.921875 -5.75 -0.734375 -5.59375 C -0.546875 -5.445312 -0.382812 -5.273438 -0.25 -5.078125 C -0.125 -4.878906 -0.03125 -4.648438 0.03125 -4.390625 C 0.101562 -4.128906 0.140625 -3.828125 0.140625 -3.484375 C 0.140625 -3.046875 0.0859375 -2.664062 -0.015625 -2.34375 C -0.117188 -2.03125 -0.28125 -1.769531 -0.5 -1.5625 C -0.726562 -1.363281 -1.019531 -1.210938 -1.375 -1.109375 C -1.726562 -1.015625 -2.148438 -0.96875 -2.640625 -0.96875 L -7.921875 -0.96875 Z M -7.921875 -2.296875 \"/>\n",
       "</g>\n",
       "<g id=\"glyph-2-3\">\n",
       "<path d=\"M 0 -1.046875 L -6.078125 -1.046875 C -6.242188 -1.046875 -6.410156 -1.039062 -6.578125 -1.03125 C -6.753906 -1.03125 -6.921875 -1.023438 -7.078125 -1.015625 C -7.242188 -1.015625 -7.394531 -1.007812 -7.53125 -1 C -7.675781 -1 -7.804688 -1 -7.921875 -1 L -7.921875 -2.234375 C -7.804688 -2.242188 -7.675781 -2.25 -7.53125 -2.25 C -7.394531 -2.257812 -7.25 -2.269531 -7.09375 -2.28125 C -6.945312 -2.289062 -6.800781 -2.296875 -6.65625 -2.296875 C -6.519531 -2.296875 -6.40625 -2.296875 -6.3125 -2.296875 L -6.3125 -2.328125 C -6.613281 -2.421875 -6.875 -2.519531 -7.09375 -2.625 C -7.3125 -2.726562 -7.492188 -2.847656 -7.640625 -2.984375 C -7.785156 -3.128906 -7.894531 -3.300781 -7.96875 -3.5 C -8.039062 -3.695312 -8.078125 -3.9375 -8.078125 -4.21875 C -8.078125 -4.320312 -8.066406 -4.421875 -8.046875 -4.515625 C -8.023438 -4.617188 -8.007812 -4.695312 -8 -4.75 L -6.796875 -4.75 C -6.816406 -4.65625 -6.832031 -4.550781 -6.84375 -4.4375 C -6.851562 -4.320312 -6.859375 -4.191406 -6.859375 -4.046875 C -6.859375 -3.742188 -6.789062 -3.484375 -6.65625 -3.265625 C -6.519531 -3.054688 -6.332031 -2.882812 -6.09375 -2.75 C -5.851562 -2.613281 -5.5625 -2.515625 -5.21875 -2.453125 C -4.882812 -2.390625 -4.519531 -2.359375 -4.125 -2.359375 L 0 -2.359375 Z M 0 -1.046875 \"/>\n",
       "</g>\n",
       "<g id=\"glyph-2-4\">\n",
       "<path d=\"M 0.140625 -3.03125 C 0.140625 -2.238281 -0.0664062 -1.640625 -0.484375 -1.234375 C -0.898438 -0.835938 -1.476562 -0.640625 -2.21875 -0.640625 C -2.738281 -0.640625 -3.164062 -0.738281 -3.5 -0.9375 C -3.832031 -1.132812 -4.09375 -1.390625 -4.28125 -1.703125 C -4.476562 -2.023438 -4.613281 -2.390625 -4.6875 -2.796875 C -4.757812 -3.210938 -4.800781 -3.632812 -4.8125 -4.0625 L -4.828125 -5.84375 L -5.265625 -5.84375 C -5.585938 -5.84375 -5.863281 -5.804688 -6.09375 -5.734375 C -6.332031 -5.660156 -6.519531 -5.550781 -6.65625 -5.40625 C -6.800781 -5.269531 -6.90625 -5.097656 -6.96875 -4.890625 C -7.03125 -4.679688 -7.0625 -4.429688 -7.0625 -4.140625 C -7.0625 -3.878906 -7.039062 -3.644531 -7 -3.4375 C -6.96875 -3.238281 -6.90625 -3.0625 -6.8125 -2.90625 C -6.71875 -2.757812 -6.585938 -2.640625 -6.421875 -2.546875 C -6.265625 -2.453125 -6.0625 -2.390625 -5.8125 -2.359375 L -5.9375 -0.984375 C -6.25 -1.035156 -6.535156 -1.128906 -6.796875 -1.265625 C -7.054688 -1.398438 -7.28125 -1.59375 -7.46875 -1.84375 C -7.65625 -2.101562 -7.800781 -2.421875 -7.90625 -2.796875 C -8.019531 -3.171875 -8.078125 -3.628906 -8.078125 -4.171875 C -8.078125 -5.160156 -7.847656 -5.90625 -7.390625 -6.40625 C -6.929688 -6.914062 -6.269531 -7.171875 -5.40625 -7.171875 L -2 -7.171875 C -1.601562 -7.171875 -1.304688 -7.222656 -1.109375 -7.328125 C -0.910156 -7.429688 -0.8125 -7.625 -0.8125 -7.90625 C -0.8125 -7.976562 -0.816406 -8.050781 -0.828125 -8.125 C -0.835938 -8.195312 -0.847656 -8.269531 -0.859375 -8.34375 L -0.046875 -8.34375 C -0.00390625 -8.175781 0.0234375 -8.007812 0.046875 -7.84375 C 0.0664062 -7.6875 0.078125 -7.515625 0.078125 -7.328125 C 0.078125 -7.078125 0.046875 -6.863281 -0.015625 -6.6875 C -0.0859375 -6.507812 -0.191406 -6.363281 -0.328125 -6.25 C -0.460938 -6.132812 -0.628906 -6.046875 -0.828125 -5.984375 C -1.023438 -5.929688 -1.253906 -5.894531 -1.515625 -5.875 L -1.515625 -5.84375 C -1.265625 -5.695312 -1.035156 -5.539062 -0.828125 -5.375 C -0.617188 -5.207031 -0.441406 -5.007812 -0.296875 -4.78125 C -0.160156 -4.5625 -0.0546875 -4.304688 0.015625 -4.015625 C 0.0976562 -3.734375 0.140625 -3.40625 0.140625 -3.03125 Z M -0.84375 -3.328125 C -0.84375 -3.753906 -0.914062 -4.125 -1.0625 -4.4375 C -1.21875 -4.75 -1.414062 -5.007812 -1.65625 -5.21875 C -1.894531 -5.425781 -2.15625 -5.582031 -2.4375 -5.6875 C -2.726562 -5.789062 -3.003906 -5.84375 -3.265625 -5.84375 L -3.90625 -5.84375 L -3.875 -4.390625 C -3.875 -4.066406 -3.851562 -3.757812 -3.8125 -3.46875 C -3.769531 -3.1875 -3.6875 -2.929688 -3.5625 -2.703125 C -3.445312 -2.484375 -3.273438 -2.3125 -3.046875 -2.1875 C -2.828125 -2.0625 -2.539062 -2 -2.1875 -2 C -1.757812 -2 -1.425781 -2.113281 -1.1875 -2.34375 C -0.957031 -2.570312 -0.84375 -2.898438 -0.84375 -3.328125 Z M -0.84375 -3.328125 \"/>\n",
       "</g>\n",
       "<g id=\"glyph-2-5\">\n",
       "<path d=\"M 0 -4.421875 C 0.476562 -4.234375 0.910156 -4.039062 1.296875 -3.84375 C 1.679688 -3.65625 2.007812 -3.441406 2.28125 -3.203125 C 2.550781 -2.960938 2.753906 -2.695312 2.890625 -2.40625 C 3.035156 -2.113281 3.109375 -1.78125 3.109375 -1.40625 C 3.109375 -1.238281 3.101562 -1.082031 3.09375 -0.9375 C 3.082031 -0.789062 3.0625 -0.640625 3.03125 -0.484375 L 2.046875 -0.484375 C 2.054688 -0.578125 2.066406 -0.679688 2.078125 -0.796875 C 2.085938 -0.921875 2.09375 -1.023438 2.09375 -1.109375 C 2.09375 -1.492188 1.945312 -1.851562 1.65625 -2.1875 C 1.363281 -2.519531 0.90625 -2.804688 0.28125 -3.046875 L -0.03125 -3.171875 L -7.921875 -0.03125 L -7.921875 -1.4375 L -3.546875 -3.109375 C -3.410156 -3.160156 -3.234375 -3.222656 -3.015625 -3.296875 C -2.796875 -3.367188 -2.578125 -3.441406 -2.359375 -3.515625 C -2.140625 -3.597656 -1.941406 -3.664062 -1.765625 -3.71875 C -1.585938 -3.78125 -1.476562 -3.816406 -1.4375 -3.828125 C -1.488281 -3.847656 -1.59375 -3.882812 -1.75 -3.9375 C -1.914062 -3.988281 -2.09375 -4.050781 -2.28125 -4.125 C -2.476562 -4.195312 -2.675781 -4.269531 -2.875 -4.34375 C -3.070312 -4.414062 -3.25 -4.476562 -3.40625 -4.53125 L -7.921875 -6.078125 L -7.921875 -7.46875 Z M 0 -4.421875 \"/>\n",
       "</g>\n",
       "<g id=\"glyph-2-6\">\n",
       "</g>\n",
       "<g id=\"glyph-2-7\">\n",
       "<path d=\"M 0 -1.234375 L -10.3125 -1.234375 L -10.3125 -9.0625 L -9.171875 -9.0625 L -9.171875 -2.625 L -5.859375 -2.625 L -5.859375 -8.625 L -4.734375 -8.625 L -4.734375 -2.625 L -1.140625 -2.625 L -1.140625 -9.359375 L 0 -9.359375 Z M 0 -1.234375 \"/>\n",
       "</g>\n",
       "<g id=\"glyph-2-8\">\n",
       "<path d=\"M -2.1875 -6.953125 C -1.820312 -6.953125 -1.492188 -6.878906 -1.203125 -6.734375 C -0.910156 -6.597656 -0.664062 -6.390625 -0.46875 -6.109375 C -0.269531 -5.835938 -0.117188 -5.503906 -0.015625 -5.109375 C 0.0859375 -4.710938 0.140625 -4.257812 0.140625 -3.75 C 0.140625 -3.28125 0.101562 -2.863281 0.03125 -2.5 C -0.03125 -2.132812 -0.140625 -1.8125 -0.296875 -1.53125 C -0.453125 -1.25 -0.65625 -1.015625 -0.90625 -0.828125 C -1.164062 -0.640625 -1.484375 -0.503906 -1.859375 -0.421875 L -2.09375 -1.578125 C -1.664062 -1.691406 -1.351562 -1.925781 -1.15625 -2.28125 C -0.957031 -2.632812 -0.859375 -3.125 -0.859375 -3.75 C -0.859375 -4.03125 -0.875 -4.285156 -0.90625 -4.515625 C -0.945312 -4.753906 -1.015625 -4.957031 -1.109375 -5.125 C -1.210938 -5.300781 -1.34375 -5.4375 -1.5 -5.53125 C -1.65625 -5.625 -1.851562 -5.671875 -2.09375 -5.671875 C -2.332031 -5.671875 -2.523438 -5.613281 -2.671875 -5.5 C -2.828125 -5.394531 -2.957031 -5.238281 -3.0625 -5.03125 C -3.164062 -4.832031 -3.253906 -4.585938 -3.328125 -4.296875 C -3.398438 -4.015625 -3.484375 -3.707031 -3.578125 -3.375 C -3.660156 -3.050781 -3.753906 -2.734375 -3.859375 -2.421875 C -3.960938 -2.109375 -4.097656 -1.828125 -4.265625 -1.578125 C -4.429688 -1.328125 -4.640625 -1.125 -4.890625 -0.96875 C -5.140625 -0.8125 -5.453125 -0.734375 -5.828125 -0.734375 C -6.554688 -0.734375 -7.109375 -0.988281 -7.484375 -1.5 C -7.859375 -2.019531 -8.046875 -2.769531 -8.046875 -3.75 C -8.046875 -4.625 -7.890625 -5.316406 -7.578125 -5.828125 C -7.273438 -6.347656 -6.785156 -6.675781 -6.109375 -6.8125 L -5.96875 -5.625 C -6.164062 -5.582031 -6.332031 -5.503906 -6.46875 -5.390625 C -6.613281 -5.273438 -6.726562 -5.132812 -6.8125 -4.96875 C -6.894531 -4.800781 -6.953125 -4.613281 -6.984375 -4.40625 C -7.023438 -4.195312 -7.046875 -3.976562 -7.046875 -3.75 C -7.046875 -3.15625 -6.957031 -2.71875 -6.78125 -2.4375 C -6.601562 -2.15625 -6.332031 -2.015625 -5.96875 -2.015625 C -5.75 -2.015625 -5.566406 -2.066406 -5.421875 -2.171875 C -5.285156 -2.273438 -5.171875 -2.421875 -5.078125 -2.609375 C -4.984375 -2.796875 -4.898438 -3.019531 -4.828125 -3.28125 C -4.753906 -3.550781 -4.679688 -3.84375 -4.609375 -4.15625 C -4.554688 -4.363281 -4.5 -4.578125 -4.4375 -4.796875 C -4.375 -5.023438 -4.300781 -5.238281 -4.21875 -5.4375 C -4.132812 -5.644531 -4.035156 -5.84375 -3.921875 -6.03125 C -3.804688 -6.21875 -3.664062 -6.378906 -3.5 -6.515625 C -3.34375 -6.648438 -3.15625 -6.753906 -2.9375 -6.828125 C -2.71875 -6.910156 -2.46875 -6.953125 -2.1875 -6.953125 Z M -2.1875 -6.953125 \"/>\n",
       "</g>\n",
       "<g id=\"glyph-2-9\">\n",
       "<path d=\"M -0.0625 -4.0625 C -0.0078125 -3.851562 0.03125 -3.644531 0.0625 -3.4375 C 0.101562 -3.238281 0.125 -3 0.125 -2.71875 C 0.125 -1.664062 -0.472656 -1.140625 -1.671875 -1.140625 L -6.96875 -1.140625 L -6.96875 -0.234375 L -7.921875 -0.234375 L -7.921875 -1.1875 L -9.703125 -1.578125 L -9.703125 -2.46875 L -7.921875 -2.46875 L -7.921875 -3.921875 L -6.96875 -3.921875 L -6.96875 -2.46875 L -1.96875 -2.46875 C -1.582031 -2.46875 -1.3125 -2.523438 -1.15625 -2.640625 C -1.007812 -2.765625 -0.9375 -2.984375 -0.9375 -3.296875 C -0.9375 -3.421875 -0.941406 -3.539062 -0.953125 -3.65625 C -0.972656 -3.78125 -1 -3.914062 -1.03125 -4.0625 Z M -0.0625 -4.0625 \"/>\n",
       "</g>\n",
       "<g id=\"glyph-2-10\">\n",
       "<path d=\"M -9.609375 -1 L -10.875 -1 L -10.875 -2.328125 L -9.609375 -2.328125 Z M 0 -1 L -7.921875 -1 L -7.921875 -2.328125 L 0 -2.328125 Z M 0 -1 \"/>\n",
       "</g>\n",
       "<g id=\"glyph-2-11\">\n",
       "<path d=\"M 0 -5.625 L -5.03125 -5.625 C -5.414062 -5.625 -5.734375 -5.597656 -5.984375 -5.546875 C -6.242188 -5.503906 -6.453125 -5.425781 -6.609375 -5.3125 C -6.773438 -5.195312 -6.890625 -5.046875 -6.953125 -4.859375 C -7.015625 -4.671875 -7.046875 -4.441406 -7.046875 -4.171875 C -7.046875 -3.890625 -6.988281 -3.632812 -6.875 -3.40625 C -6.769531 -3.1875 -6.613281 -3 -6.40625 -2.84375 C -6.195312 -2.6875 -5.941406 -2.5625 -5.640625 -2.46875 C -5.335938 -2.382812 -4.988281 -2.34375 -4.59375 -2.34375 L 0 -2.34375 L 0 -1.046875 L -6.234375 -1.046875 C -6.398438 -1.046875 -6.570312 -1.039062 -6.75 -1.03125 C -6.9375 -1.03125 -7.109375 -1.023438 -7.265625 -1.015625 C -7.429688 -1.015625 -7.570312 -1.007812 -7.6875 -1 C -7.8125 -1 -7.890625 -1 -7.921875 -1 L -7.921875 -2.234375 C -7.898438 -2.242188 -7.832031 -2.25 -7.71875 -2.25 C -7.613281 -2.257812 -7.492188 -2.265625 -7.359375 -2.265625 C -7.222656 -2.273438 -7.082031 -2.28125 -6.9375 -2.28125 C -6.789062 -2.289062 -6.664062 -2.296875 -6.5625 -2.296875 L -6.5625 -2.328125 C -6.800781 -2.441406 -7.007812 -2.566406 -7.1875 -2.703125 C -7.375 -2.835938 -7.53125 -2.992188 -7.65625 -3.171875 C -7.789062 -3.359375 -7.894531 -3.570312 -7.96875 -3.8125 C -8.039062 -4.050781 -8.078125 -4.328125 -8.078125 -4.640625 C -8.078125 -5.234375 -7.957031 -5.703125 -7.71875 -6.046875 C -7.476562 -6.398438 -7.09375 -6.648438 -6.5625 -6.796875 L -6.5625 -6.8125 C -6.800781 -6.925781 -7.007812 -7.054688 -7.1875 -7.203125 C -7.375 -7.347656 -7.53125 -7.519531 -7.65625 -7.71875 C -7.789062 -7.914062 -7.894531 -8.132812 -7.96875 -8.375 C -8.039062 -8.625 -8.078125 -8.90625 -8.078125 -9.21875 C -8.078125 -9.613281 -8.019531 -9.957031 -7.90625 -10.25 C -7.800781 -10.539062 -7.632812 -10.78125 -7.40625 -10.96875 C -7.1875 -11.15625 -6.898438 -11.289062 -6.546875 -11.375 C -6.191406 -11.457031 -5.769531 -11.5 -5.28125 -11.5 L 0 -11.5 L 0 -10.203125 L -5.03125 -10.203125 C -5.414062 -10.203125 -5.734375 -10.175781 -5.984375 -10.125 C -6.242188 -10.082031 -6.453125 -10.003906 -6.609375 -9.890625 C -6.773438 -9.773438 -6.890625 -9.625 -6.953125 -9.4375 C -7.015625 -9.25 -7.046875 -9.019531 -7.046875 -8.75 C -7.046875 -8.46875 -6.992188 -8.210938 -6.890625 -7.984375 C -6.785156 -7.765625 -6.628906 -7.578125 -6.421875 -7.421875 C -6.222656 -7.265625 -5.96875 -7.140625 -5.65625 -7.046875 C -5.351562 -6.960938 -5 -6.921875 -4.59375 -6.921875 L 0 -6.921875 Z M 0 -5.625 \"/>\n",
       "</g>\n",
       "<g id=\"glyph-2-12\">\n",
       "<path d=\"M -3.6875 -2.015625 C -3.269531 -2.015625 -2.882812 -2.054688 -2.53125 -2.140625 C -2.1875 -2.234375 -1.890625 -2.367188 -1.640625 -2.546875 C -1.390625 -2.722656 -1.191406 -2.945312 -1.046875 -3.21875 C -0.910156 -3.5 -0.84375 -3.835938 -0.84375 -4.234375 C -0.84375 -4.804688 -0.957031 -5.265625 -1.1875 -5.609375 C -1.414062 -5.953125 -1.707031 -6.1875 -2.0625 -6.3125 L -1.734375 -7.46875 C -1.515625 -7.382812 -1.289062 -7.265625 -1.0625 -7.109375 C -0.84375 -6.960938 -0.644531 -6.765625 -0.46875 -6.515625 C -0.289062 -6.265625 -0.144531 -5.953125 -0.03125 -5.578125 C 0.0820312 -5.210938 0.140625 -4.765625 0.140625 -4.234375 C 0.140625 -3.054688 -0.207031 -2.160156 -0.90625 -1.546875 C -1.601562 -0.941406 -2.640625 -0.640625 -4.015625 -0.640625 C -4.753906 -0.640625 -5.378906 -0.726562 -5.890625 -0.90625 C -6.410156 -1.09375 -6.832031 -1.347656 -7.15625 -1.671875 C -7.476562 -1.992188 -7.710938 -2.367188 -7.859375 -2.796875 C -8.003906 -3.234375 -8.078125 -3.695312 -8.078125 -4.1875 C -8.078125 -4.84375 -7.96875 -5.394531 -7.75 -5.84375 C -7.53125 -6.289062 -7.234375 -6.648438 -6.859375 -6.921875 C -6.484375 -7.191406 -6.035156 -7.382812 -5.515625 -7.5 C -5.003906 -7.613281 -4.453125 -7.671875 -3.859375 -7.671875 L -3.6875 -7.671875 Z M -4.6875 -6.3125 C -5.53125 -6.238281 -6.140625 -6.023438 -6.515625 -5.671875 C -6.898438 -5.328125 -7.09375 -4.820312 -7.09375 -4.15625 C -7.09375 -3.9375 -7.054688 -3.707031 -6.984375 -3.46875 C -6.921875 -3.226562 -6.796875 -3.003906 -6.609375 -2.796875 C -6.429688 -2.585938 -6.1875 -2.410156 -5.875 -2.265625 C -5.5625 -2.128906 -5.164062 -2.050781 -4.6875 -2.03125 Z M -4.6875 -6.3125 \"/>\n",
       "</g>\n",
       "<g id=\"glyph-3-0\">\n",
       "<path d=\"M 10.25 0 L 8.84375 -3.625 L 3.203125 -3.625 L 1.78125 0 L 0.03125 0 L 5.09375 -12.390625 L 7 -12.390625 L 11.96875 0 Z M 6.75 -9.015625 C 6.65625 -9.253906 6.566406 -9.492188 6.484375 -9.734375 C 6.398438 -9.972656 6.320312 -10.1875 6.25 -10.375 C 6.1875 -10.570312 6.132812 -10.738281 6.09375 -10.875 C 6.050781 -11.007812 6.023438 -11.09375 6.015625 -11.125 C 6.003906 -11.09375 5.976562 -11.007812 5.9375 -10.875 C 5.894531 -10.738281 5.835938 -10.570312 5.765625 -10.375 C 5.703125 -10.175781 5.628906 -9.957031 5.546875 -9.71875 C 5.460938 -9.476562 5.378906 -9.238281 5.296875 -9 L 3.703125 -4.9375 L 8.34375 -4.9375 Z M 6.75 -9.015625 \"/>\n",
       "</g>\n",
       "<g id=\"glyph-3-1\">\n",
       "<path d=\"M 2.421875 -4.796875 C 2.421875 -4.253906 2.457031 -3.753906 2.53125 -3.296875 C 2.613281 -2.835938 2.75 -2.441406 2.9375 -2.109375 C 3.125 -1.785156 3.367188 -1.53125 3.671875 -1.34375 C 3.984375 -1.164062 4.363281 -1.078125 4.8125 -1.078125 C 5.375 -1.078125 5.84375 -1.226562 6.21875 -1.53125 C 6.601562 -1.832031 6.835938 -2.300781 6.921875 -2.9375 L 8.53125 -2.828125 C 8.476562 -2.429688 8.363281 -2.050781 8.1875 -1.6875 C 8.007812 -1.332031 7.769531 -1.015625 7.46875 -0.734375 C 7.164062 -0.460938 6.796875 -0.242188 6.359375 -0.078125 C 5.929688 0.0859375 5.429688 0.171875 4.859375 0.171875 C 4.117188 0.171875 3.488281 0.046875 2.96875 -0.203125 C 2.445312 -0.453125 2.019531 -0.796875 1.6875 -1.234375 C 1.363281 -1.679688 1.128906 -2.203125 0.984375 -2.796875 C 0.835938 -3.398438 0.765625 -4.054688 0.765625 -4.765625 C 0.765625 -5.398438 0.816406 -5.960938 0.921875 -6.453125 C 1.023438 -6.941406 1.171875 -7.367188 1.359375 -7.734375 C 1.554688 -8.097656 1.78125 -8.40625 2.03125 -8.65625 C 2.289062 -8.90625 2.570312 -9.101562 2.875 -9.25 C 3.175781 -9.40625 3.492188 -9.515625 3.828125 -9.578125 C 4.160156 -9.648438 4.5 -9.6875 4.84375 -9.6875 C 5.375 -9.6875 5.847656 -9.613281 6.265625 -9.46875 C 6.679688 -9.320312 7.039062 -9.117188 7.34375 -8.859375 C 7.644531 -8.609375 7.890625 -8.304688 8.078125 -7.953125 C 8.265625 -7.609375 8.394531 -7.238281 8.46875 -6.84375 L 6.84375 -6.71875 C 6.757812 -7.25 6.550781 -7.671875 6.21875 -7.984375 C 5.882812 -8.296875 5.410156 -8.453125 4.796875 -8.453125 C 4.347656 -8.453125 3.972656 -8.375 3.671875 -8.21875 C 3.367188 -8.070312 3.125 -7.847656 2.9375 -7.546875 C 2.75 -7.242188 2.613281 -6.863281 2.53125 -6.40625 C 2.457031 -5.945312 2.421875 -5.410156 2.421875 -4.796875 Z M 2.421875 -4.796875 \"/>\n",
       "</g>\n",
       "<g id=\"glyph-3-2\">\n",
       "<path d=\"M 2.765625 -9.515625 L 2.765625 -3.484375 C 2.765625 -3.015625 2.796875 -2.625 2.859375 -2.3125 C 2.929688 -2.007812 3.039062 -1.757812 3.1875 -1.5625 C 3.34375 -1.375 3.546875 -1.238281 3.796875 -1.15625 C 4.046875 -1.082031 4.351562 -1.046875 4.71875 -1.046875 C 5.09375 -1.046875 5.429688 -1.109375 5.734375 -1.234375 C 6.035156 -1.367188 6.289062 -1.5625 6.5 -1.8125 C 6.71875 -2.0625 6.882812 -2.367188 7 -2.734375 C 7.125 -3.097656 7.1875 -3.519531 7.1875 -4 L 7.1875 -9.515625 L 8.765625 -9.515625 L 8.765625 -2.03125 C 8.765625 -1.832031 8.765625 -1.625 8.765625 -1.40625 C 8.765625 -1.1875 8.769531 -0.976562 8.78125 -0.78125 C 8.789062 -0.582031 8.796875 -0.410156 8.796875 -0.265625 C 8.804688 -0.128906 8.8125 -0.0390625 8.8125 0 L 7.328125 0 C 7.316406 -0.03125 7.304688 -0.109375 7.296875 -0.234375 C 7.296875 -0.367188 7.289062 -0.519531 7.28125 -0.6875 C 7.269531 -0.851562 7.257812 -1.019531 7.25 -1.1875 C 7.25 -1.363281 7.25 -1.507812 7.25 -1.625 L 7.21875 -1.625 C 7.070312 -1.351562 6.90625 -1.101562 6.71875 -0.875 C 6.539062 -0.65625 6.332031 -0.46875 6.09375 -0.3125 C 5.851562 -0.15625 5.578125 -0.0351562 5.265625 0.046875 C 4.953125 0.128906 4.59375 0.171875 4.1875 0.171875 C 3.65625 0.171875 3.195312 0.109375 2.8125 -0.015625 C 2.4375 -0.148438 2.125 -0.347656 1.875 -0.609375 C 1.632812 -0.878906 1.457031 -1.222656 1.34375 -1.640625 C 1.226562 -2.066406 1.171875 -2.578125 1.171875 -3.171875 L 1.171875 -9.515625 Z M 2.765625 -9.515625 \"/>\n",
       "</g>\n",
       "<g id=\"glyph-3-3\">\n",
       "<path d=\"M 1.25 0 L 1.25 -7.296875 C 1.25 -7.492188 1.242188 -7.695312 1.234375 -7.90625 C 1.234375 -8.113281 1.226562 -8.3125 1.21875 -8.5 C 1.21875 -8.695312 1.210938 -8.878906 1.203125 -9.046875 C 1.203125 -9.222656 1.203125 -9.378906 1.203125 -9.515625 L 2.6875 -9.515625 C 2.695312 -9.378906 2.703125 -9.222656 2.703125 -9.046875 C 2.710938 -8.878906 2.722656 -8.703125 2.734375 -8.515625 C 2.742188 -8.335938 2.75 -8.164062 2.75 -8 C 2.757812 -7.832031 2.765625 -7.6875 2.765625 -7.5625 L 2.796875 -7.5625 C 2.910156 -7.925781 3.03125 -8.238281 3.15625 -8.5 C 3.28125 -8.769531 3.425781 -8.992188 3.59375 -9.171875 C 3.757812 -9.347656 3.957031 -9.476562 4.1875 -9.5625 C 4.425781 -9.644531 4.710938 -9.6875 5.046875 -9.6875 C 5.179688 -9.6875 5.304688 -9.675781 5.421875 -9.65625 C 5.535156 -9.632812 5.628906 -9.613281 5.703125 -9.59375 L 5.703125 -8.140625 C 5.585938 -8.171875 5.457031 -8.191406 5.3125 -8.203125 C 5.175781 -8.222656 5.023438 -8.234375 4.859375 -8.234375 C 4.492188 -8.234375 4.179688 -8.148438 3.921875 -7.984375 C 3.671875 -7.828125 3.460938 -7.601562 3.296875 -7.3125 C 3.140625 -7.019531 3.019531 -6.671875 2.9375 -6.265625 C 2.863281 -5.867188 2.828125 -5.429688 2.828125 -4.953125 L 2.828125 0 Z M 1.25 0 \"/>\n",
       "</g>\n",
       "<g id=\"glyph-3-4\">\n",
       "<path d=\"M 3.640625 0.171875 C 2.679688 0.171875 1.960938 -0.078125 1.484375 -0.578125 C 1.003906 -1.085938 0.765625 -1.78125 0.765625 -2.65625 C 0.765625 -3.28125 0.882812 -3.789062 1.125 -4.1875 C 1.363281 -4.59375 1.671875 -4.910156 2.046875 -5.140625 C 2.429688 -5.367188 2.867188 -5.523438 3.359375 -5.609375 C 3.859375 -5.703125 4.363281 -5.753906 4.875 -5.765625 L 7 -5.796875 L 7 -6.3125 C 7 -6.707031 6.957031 -7.039062 6.875 -7.3125 C 6.800781 -7.59375 6.675781 -7.816406 6.5 -7.984375 C 6.332031 -8.160156 6.117188 -8.285156 5.859375 -8.359375 C 5.609375 -8.441406 5.3125 -8.484375 4.96875 -8.484375 C 4.664062 -8.484375 4.390625 -8.457031 4.140625 -8.40625 C 3.890625 -8.363281 3.671875 -8.285156 3.484375 -8.171875 C 3.304688 -8.054688 3.160156 -7.898438 3.046875 -7.703125 C 2.941406 -7.515625 2.875 -7.269531 2.84375 -6.96875 L 1.1875 -7.125 C 1.25 -7.5 1.359375 -7.84375 1.515625 -8.15625 C 1.679688 -8.46875 1.914062 -8.738281 2.21875 -8.96875 C 2.519531 -9.195312 2.894531 -9.375 3.34375 -9.5 C 3.800781 -9.625 4.351562 -9.6875 5 -9.6875 C 6.195312 -9.6875 7.097656 -9.410156 7.703125 -8.859375 C 8.304688 -8.316406 8.609375 -7.523438 8.609375 -6.484375 L 8.609375 -2.390625 C 8.609375 -1.921875 8.664062 -1.566406 8.78125 -1.328125 C 8.90625 -1.085938 9.144531 -0.96875 9.5 -0.96875 C 9.582031 -0.96875 9.664062 -0.972656 9.75 -0.984375 C 9.84375 -1.003906 9.929688 -1.019531 10.015625 -1.03125 L 10.015625 -0.046875 C 9.816406 -0.00390625 9.617188 0.0234375 9.421875 0.046875 C 9.222656 0.078125 9.015625 0.09375 8.796875 0.09375 C 8.492188 0.09375 8.234375 0.0507812 8.015625 -0.03125 C 7.804688 -0.113281 7.632812 -0.234375 7.5 -0.390625 C 7.363281 -0.554688 7.257812 -0.753906 7.1875 -0.984375 C 7.113281 -1.222656 7.070312 -1.5 7.0625 -1.8125 L 7 -1.8125 C 6.832031 -1.507812 6.644531 -1.234375 6.4375 -0.984375 C 6.238281 -0.742188 6.003906 -0.535156 5.734375 -0.359375 C 5.460938 -0.191406 5.15625 -0.0625 4.8125 0.03125 C 4.476562 0.125 4.085938 0.171875 3.640625 0.171875 Z M 4 -1.015625 C 4.5 -1.015625 4.9375 -1.101562 5.3125 -1.28125 C 5.695312 -1.46875 6.015625 -1.703125 6.265625 -1.984375 C 6.515625 -2.273438 6.695312 -2.59375 6.8125 -2.9375 C 6.9375 -3.28125 7 -3.601562 7 -3.90625 L 7 -4.6875 L 5.28125 -4.65625 C 4.882812 -4.65625 4.507812 -4.628906 4.15625 -4.578125 C 3.8125 -4.523438 3.507812 -4.425781 3.25 -4.28125 C 2.988281 -4.132812 2.78125 -3.925781 2.625 -3.65625 C 2.46875 -3.394531 2.390625 -3.050781 2.390625 -2.625 C 2.390625 -2.113281 2.523438 -1.71875 2.796875 -1.4375 C 3.078125 -1.15625 3.476562 -1.015625 4 -1.015625 Z M 4 -1.015625 \"/>\n",
       "</g>\n",
       "<g id=\"glyph-3-5\">\n",
       "<path d=\"M 1.203125 -11.53125 L 1.203125 -13.046875 L 2.78125 -13.046875 L 2.78125 -11.53125 Z M 1.203125 0 L 1.203125 -9.515625 L 2.78125 -9.515625 L 2.78125 0 Z M 1.203125 0 \"/>\n",
       "</g>\n",
       "<g id=\"glyph-3-6\">\n",
       "<path d=\"M 2.421875 -4.421875 C 2.421875 -3.921875 2.472656 -3.460938 2.578125 -3.046875 C 2.679688 -2.628906 2.835938 -2.269531 3.046875 -1.96875 C 3.265625 -1.664062 3.539062 -1.429688 3.875 -1.265625 C 4.207031 -1.097656 4.609375 -1.015625 5.078125 -1.015625 C 5.765625 -1.015625 6.3125 -1.148438 6.71875 -1.421875 C 7.132812 -1.703125 7.414062 -2.050781 7.5625 -2.46875 L 8.953125 -2.078125 C 8.859375 -1.804688 8.71875 -1.535156 8.53125 -1.265625 C 8.351562 -1.003906 8.113281 -0.765625 7.8125 -0.546875 C 7.519531 -0.335938 7.148438 -0.164062 6.703125 -0.03125 C 6.253906 0.101562 5.710938 0.171875 5.078125 0.171875 C 3.671875 0.171875 2.597656 -0.242188 1.859375 -1.078125 C 1.128906 -1.921875 0.765625 -3.164062 0.765625 -4.8125 C 0.765625 -5.707031 0.875 -6.460938 1.09375 -7.078125 C 1.320312 -7.691406 1.628906 -8.191406 2.015625 -8.578125 C 2.398438 -8.972656 2.847656 -9.253906 3.359375 -9.421875 C 3.878906 -9.597656 4.429688 -9.6875 5.015625 -9.6875 C 5.816406 -9.6875 6.484375 -9.554688 7.015625 -9.296875 C 7.554688 -9.035156 7.988281 -8.675781 8.3125 -8.21875 C 8.632812 -7.769531 8.863281 -7.238281 9 -6.625 C 9.144531 -6.007812 9.21875 -5.34375 9.21875 -4.625 L 9.21875 -4.421875 Z M 7.578125 -5.640625 C 7.484375 -6.640625 7.222656 -7.367188 6.796875 -7.828125 C 6.378906 -8.285156 5.78125 -8.515625 5 -8.515625 C 4.726562 -8.515625 4.445312 -8.472656 4.15625 -8.390625 C 3.875 -8.304688 3.609375 -8.15625 3.359375 -7.9375 C 3.109375 -7.71875 2.898438 -7.421875 2.734375 -7.046875 C 2.566406 -6.679688 2.46875 -6.210938 2.4375 -5.640625 Z M 7.578125 -5.640625 \"/>\n",
       "</g>\n",
       "<g id=\"glyph-3-7\">\n",
       "<path d=\"M 8.34375 -2.625 C 8.34375 -2.175781 8.253906 -1.78125 8.078125 -1.4375 C 7.910156 -1.09375 7.660156 -0.800781 7.328125 -0.5625 C 7.003906 -0.320312 6.601562 -0.140625 6.125 -0.015625 C 5.65625 0.109375 5.109375 0.171875 4.484375 0.171875 C 3.941406 0.171875 3.445312 0.128906 3 0.046875 C 2.5625 -0.0351562 2.175781 -0.171875 1.84375 -0.359375 C 1.507812 -0.546875 1.226562 -0.789062 1 -1.09375 C 0.769531 -1.40625 0.601562 -1.785156 0.5 -2.234375 L 1.90625 -2.5 C 2.03125 -1.988281 2.300781 -1.613281 2.71875 -1.375 C 3.144531 -1.144531 3.734375 -1.03125 4.484375 -1.03125 C 4.828125 -1.03125 5.140625 -1.050781 5.421875 -1.09375 C 5.710938 -1.144531 5.957031 -1.226562 6.15625 -1.34375 C 6.363281 -1.457031 6.523438 -1.609375 6.640625 -1.796875 C 6.753906 -1.984375 6.8125 -2.21875 6.8125 -2.5 C 6.8125 -2.789062 6.742188 -3.023438 6.609375 -3.203125 C 6.472656 -3.390625 6.285156 -3.546875 6.046875 -3.671875 C 5.804688 -3.796875 5.515625 -3.898438 5.171875 -3.984375 C 4.828125 -4.078125 4.453125 -4.179688 4.046875 -4.296875 C 3.660156 -4.398438 3.28125 -4.507812 2.90625 -4.625 C 2.53125 -4.75 2.191406 -4.910156 1.890625 -5.109375 C 1.585938 -5.316406 1.34375 -5.566406 1.15625 -5.859375 C 0.96875 -6.160156 0.875 -6.539062 0.875 -7 C 0.875 -7.863281 1.179688 -8.519531 1.796875 -8.96875 C 2.421875 -9.425781 3.328125 -9.65625 4.515625 -9.65625 C 5.554688 -9.65625 6.382812 -9.46875 7 -9.09375 C 7.625 -8.726562 8.019531 -8.140625 8.1875 -7.328125 L 6.765625 -7.15625 C 6.710938 -7.40625 6.613281 -7.613281 6.46875 -7.78125 C 6.332031 -7.945312 6.160156 -8.078125 5.953125 -8.171875 C 5.753906 -8.273438 5.53125 -8.347656 5.28125 -8.390625 C 5.03125 -8.441406 4.773438 -8.46875 4.515625 -8.46875 C 3.796875 -8.46875 3.265625 -8.359375 2.921875 -8.140625 C 2.585938 -7.921875 2.421875 -7.59375 2.421875 -7.15625 C 2.421875 -6.894531 2.484375 -6.679688 2.609375 -6.515625 C 2.734375 -6.347656 2.90625 -6.207031 3.125 -6.09375 C 3.351562 -5.976562 3.625 -5.878906 3.9375 -5.796875 C 4.257812 -5.710938 4.613281 -5.625 5 -5.53125 C 5.25 -5.46875 5.503906 -5.398438 5.765625 -5.328125 C 6.023438 -5.253906 6.28125 -5.164062 6.53125 -5.0625 C 6.78125 -4.957031 7.015625 -4.832031 7.234375 -4.6875 C 7.453125 -4.550781 7.644531 -4.382812 7.8125 -4.1875 C 7.976562 -4 8.109375 -3.773438 8.203125 -3.515625 C 8.296875 -3.265625 8.34375 -2.96875 8.34375 -2.625 Z M 8.34375 -2.625 \"/>\n",
       "</g>\n",
       "<g id=\"glyph-3-8\">\n",
       "</g>\n",
       "<g id=\"glyph-3-9\">\n",
       "<path d=\"M 3.171875 -8.359375 L 3.171875 0 L 1.59375 0 L 1.59375 -8.359375 L 0.25 -8.359375 L 0.25 -9.515625 L 1.59375 -9.515625 L 1.59375 -10.578125 C 1.59375 -10.921875 1.625 -11.238281 1.6875 -11.53125 C 1.75 -11.832031 1.863281 -12.09375 2.03125 -12.3125 C 2.207031 -12.53125 2.445312 -12.703125 2.75 -12.828125 C 3.050781 -12.960938 3.4375 -13.03125 3.90625 -13.03125 C 4.09375 -13.03125 4.285156 -13.019531 4.484375 -13 C 4.691406 -12.976562 4.875 -12.953125 5.03125 -12.921875 L 5.03125 -11.71875 C 4.925781 -11.738281 4.804688 -11.753906 4.671875 -11.765625 C 4.546875 -11.773438 4.429688 -11.78125 4.328125 -11.78125 C 4.085938 -11.78125 3.894531 -11.75 3.75 -11.6875 C 3.601562 -11.625 3.484375 -11.53125 3.390625 -11.40625 C 3.304688 -11.289062 3.25 -11.144531 3.21875 -10.96875 C 3.1875 -10.789062 3.171875 -10.585938 3.171875 -10.359375 L 3.171875 -9.515625 L 5.03125 -9.515625 L 5.03125 -8.359375 Z M 3.171875 -8.359375 \"/>\n",
       "</g>\n",
       "<g id=\"glyph-3-10\">\n",
       "<path d=\"M 9.25 -4.765625 C 9.25 -3.097656 8.882812 -1.859375 8.15625 -1.046875 C 7.425781 -0.234375 6.363281 0.171875 4.96875 0.171875 C 4.300781 0.171875 3.707031 0.0703125 3.1875 -0.125 C 2.664062 -0.320312 2.222656 -0.625 1.859375 -1.03125 C 1.503906 -1.445312 1.226562 -1.960938 1.03125 -2.578125 C 0.84375 -3.191406 0.75 -3.921875 0.75 -4.765625 C 0.75 -8.046875 2.171875 -9.6875 5.015625 -9.6875 C 5.753906 -9.6875 6.390625 -9.582031 6.921875 -9.375 C 7.460938 -9.175781 7.90625 -8.867188 8.25 -8.453125 C 8.59375 -8.046875 8.84375 -7.535156 9 -6.921875 C 9.164062 -6.304688 9.25 -5.585938 9.25 -4.765625 Z M 7.59375 -4.765625 C 7.59375 -5.503906 7.535156 -6.113281 7.421875 -6.59375 C 7.304688 -7.070312 7.140625 -7.453125 6.921875 -7.734375 C 6.703125 -8.023438 6.429688 -8.226562 6.109375 -8.34375 C 5.796875 -8.457031 5.441406 -8.515625 5.046875 -8.515625 C 4.640625 -8.515625 4.273438 -8.453125 3.953125 -8.328125 C 3.628906 -8.210938 3.351562 -8.007812 3.125 -7.71875 C 2.894531 -7.425781 2.71875 -7.039062 2.59375 -6.5625 C 2.476562 -6.082031 2.421875 -5.484375 2.421875 -4.765625 C 2.421875 -4.023438 2.484375 -3.410156 2.609375 -2.921875 C 2.734375 -2.441406 2.910156 -2.054688 3.140625 -1.765625 C 3.367188 -1.484375 3.632812 -1.285156 3.9375 -1.171875 C 4.25 -1.054688 4.585938 -1 4.953125 -1 C 5.359375 -1 5.722656 -1.054688 6.046875 -1.171875 C 6.378906 -1.285156 6.65625 -1.484375 6.875 -1.765625 C 7.101562 -2.054688 7.28125 -2.441406 7.40625 -2.921875 C 7.53125 -3.410156 7.59375 -4.023438 7.59375 -4.765625 Z M 7.59375 -4.765625 \"/>\n",
       "</g>\n",
       "<g id=\"glyph-3-11\">\n",
       "<path d=\"M 1.375 0 L 1.375 -1.34375 L 4.53125 -1.34375 L 4.53125 -10.875 L 1.734375 -8.875 L 1.734375 -10.375 L 4.65625 -12.390625 L 6.125 -12.390625 L 6.125 -1.34375 L 9.125 -1.34375 L 9.125 0 Z M 1.375 0 \"/>\n",
       "</g>\n",
       "<g id=\"glyph-3-12\">\n",
       "<path d=\"M 0.578125 -5.546875 L 0.578125 -7.34375 L 9.3125 -10.8125 L 9.3125 -9.46875 L 1.78125 -6.4375 L 9.3125 -3.421875 L 9.3125 -2.078125 Z M 0.546875 0 L 0.546875 -1.28125 L 9.296875 -1.28125 L 9.296875 0 Z M 0.546875 0 \"/>\n",
       "</g>\n",
       "<g id=\"glyph-3-13\">\n",
       "<path d=\"M 7.171875 0 L 3.953125 -4.34375 L 2.796875 -3.390625 L 2.796875 0 L 1.21875 0 L 1.21875 -13.046875 L 2.796875 -13.046875 L 2.796875 -4.890625 L 6.96875 -9.515625 L 8.828125 -9.515625 L 4.96875 -5.421875 L 9.03125 0 Z M 7.171875 0 \"/>\n",
       "</g>\n",
       "<g id=\"glyph-3-14\">\n",
       "<path d=\"M 9.25 -4.03125 C 9.25 -3.414062 9.15625 -2.847656 8.96875 -2.328125 C 8.78125 -1.816406 8.5 -1.375 8.125 -1 C 7.757812 -0.625 7.300781 -0.332031 6.75 -0.125 C 6.207031 0.0703125 5.578125 0.171875 4.859375 0.171875 C 4.210938 0.171875 3.644531 0.0976562 3.15625 -0.046875 C 2.675781 -0.203125 2.269531 -0.410156 1.9375 -0.671875 C 1.601562 -0.941406 1.335938 -1.253906 1.140625 -1.609375 C 0.941406 -1.972656 0.800781 -2.359375 0.71875 -2.765625 L 2.328125 -2.953125 C 2.390625 -2.722656 2.476562 -2.492188 2.59375 -2.265625 C 2.707031 -2.046875 2.863281 -1.847656 3.0625 -1.671875 C 3.269531 -1.503906 3.519531 -1.367188 3.8125 -1.265625 C 4.113281 -1.160156 4.472656 -1.109375 4.890625 -1.109375 C 5.304688 -1.109375 5.679688 -1.171875 6.015625 -1.296875 C 6.347656 -1.429688 6.628906 -1.617188 6.859375 -1.859375 C 7.097656 -2.109375 7.28125 -2.410156 7.40625 -2.765625 C 7.539062 -3.128906 7.609375 -3.539062 7.609375 -4 C 7.609375 -4.382812 7.546875 -4.734375 7.421875 -5.046875 C 7.304688 -5.367188 7.132812 -5.644531 6.90625 -5.875 C 6.675781 -6.101562 6.394531 -6.28125 6.0625 -6.40625 C 5.726562 -6.539062 5.351562 -6.609375 4.9375 -6.609375 C 4.664062 -6.609375 4.421875 -6.582031 4.203125 -6.53125 C 3.984375 -6.488281 3.773438 -6.425781 3.578125 -6.34375 C 3.390625 -6.257812 3.21875 -6.160156 3.0625 -6.046875 C 2.90625 -5.941406 2.757812 -5.832031 2.625 -5.71875 L 1.078125 -5.71875 L 1.5 -12.390625 L 8.53125 -12.390625 L 8.53125 -11.046875 L 2.9375 -11.046875 L 2.703125 -7.109375 C 2.984375 -7.328125 3.332031 -7.515625 3.75 -7.671875 C 4.175781 -7.828125 4.675781 -7.90625 5.25 -7.90625 C 5.863281 -7.90625 6.414062 -7.8125 6.90625 -7.625 C 7.40625 -7.4375 7.828125 -7.171875 8.171875 -6.828125 C 8.515625 -6.484375 8.78125 -6.070312 8.96875 -5.59375 C 9.15625 -5.125 9.25 -4.601562 9.25 -4.03125 Z M 9.25 -4.03125 \"/>\n",
       "</g>\n",
       "</g>\n",
       "<clipPath id=\"clip-0\">\n",
       "<path clip-rule=\"nonzero\" d=\"M 51.152344 27.957031 L 498.523438 27.957031 L 498.523438 464.847656 L 51.152344 464.847656 Z M 51.152344 27.957031 \"/>\n",
       "</clipPath>\n",
       "<clipPath id=\"clip-1\">\n",
       "<path clip-rule=\"nonzero\" d=\"M 51.152344 421 L 498.523438 421 L 498.523438 422 L 51.152344 422 Z M 51.152344 421 \"/>\n",
       "</clipPath>\n",
       "<clipPath id=\"clip-2\">\n",
       "<path clip-rule=\"nonzero\" d=\"M 51.152344 338 L 498.523438 338 L 498.523438 340 L 51.152344 340 Z M 51.152344 338 \"/>\n",
       "</clipPath>\n",
       "<clipPath id=\"clip-3\">\n",
       "<path clip-rule=\"nonzero\" d=\"M 51.152344 255 L 498.523438 255 L 498.523438 257 L 51.152344 257 Z M 51.152344 255 \"/>\n",
       "</clipPath>\n",
       "<clipPath id=\"clip-4\">\n",
       "<path clip-rule=\"nonzero\" d=\"M 51.152344 172 L 498.523438 172 L 498.523438 174 L 51.152344 174 Z M 51.152344 172 \"/>\n",
       "</clipPath>\n",
       "<clipPath id=\"clip-5\">\n",
       "<path clip-rule=\"nonzero\" d=\"M 51.152344 90 L 498.523438 90 L 498.523438 91 L 51.152344 91 Z M 51.152344 90 \"/>\n",
       "</clipPath>\n",
       "<clipPath id=\"clip-6\">\n",
       "<path clip-rule=\"nonzero\" d=\"M 114 27.957031 L 116 27.957031 L 116 464.847656 L 114 464.847656 Z M 114 27.957031 \"/>\n",
       "</clipPath>\n",
       "<clipPath id=\"clip-7\">\n",
       "<path clip-rule=\"nonzero\" d=\"M 260 27.957031 L 261 27.957031 L 261 464.847656 L 260 464.847656 Z M 260 27.957031 \"/>\n",
       "</clipPath>\n",
       "<clipPath id=\"clip-8\">\n",
       "<path clip-rule=\"nonzero\" d=\"M 405 27.957031 L 406 27.957031 L 406 464.847656 L 405 464.847656 Z M 405 27.957031 \"/>\n",
       "</clipPath>\n",
       "<clipPath id=\"clip-9\">\n",
       "<path clip-rule=\"nonzero\" d=\"M 51.152344 462 L 498.523438 462 L 498.523438 464 L 51.152344 464 Z M 51.152344 462 \"/>\n",
       "</clipPath>\n",
       "<clipPath id=\"clip-10\">\n",
       "<path clip-rule=\"nonzero\" d=\"M 51.152344 379 L 498.523438 379 L 498.523438 381 L 51.152344 381 Z M 51.152344 379 \"/>\n",
       "</clipPath>\n",
       "<clipPath id=\"clip-11\">\n",
       "<path clip-rule=\"nonzero\" d=\"M 51.152344 296 L 498.523438 296 L 498.523438 298 L 51.152344 298 Z M 51.152344 296 \"/>\n",
       "</clipPath>\n",
       "<clipPath id=\"clip-12\">\n",
       "<path clip-rule=\"nonzero\" d=\"M 51.152344 214 L 498.523438 214 L 498.523438 216 L 51.152344 216 Z M 51.152344 214 \"/>\n",
       "</clipPath>\n",
       "<clipPath id=\"clip-13\">\n",
       "<path clip-rule=\"nonzero\" d=\"M 51.152344 131 L 498.523438 131 L 498.523438 133 L 51.152344 133 Z M 51.152344 131 \"/>\n",
       "</clipPath>\n",
       "<clipPath id=\"clip-14\">\n",
       "<path clip-rule=\"nonzero\" d=\"M 51.152344 48 L 498.523438 48 L 498.523438 50 L 51.152344 50 Z M 51.152344 48 \"/>\n",
       "</clipPath>\n",
       "<clipPath id=\"clip-15\">\n",
       "<path clip-rule=\"nonzero\" d=\"M 187 27.957031 L 189 27.957031 L 189 464.847656 L 187 464.847656 Z M 187 27.957031 \"/>\n",
       "</clipPath>\n",
       "<clipPath id=\"clip-16\">\n",
       "<path clip-rule=\"nonzero\" d=\"M 332 27.957031 L 334 27.957031 L 334 464.847656 L 332 464.847656 Z M 332 27.957031 \"/>\n",
       "</clipPath>\n",
       "<clipPath id=\"clip-17\">\n",
       "<path clip-rule=\"nonzero\" d=\"M 477 27.957031 L 479 27.957031 L 479 464.847656 L 477 464.847656 Z M 477 27.957031 \"/>\n",
       "</clipPath>\n",
       "</defs>\n",
       "<rect x=\"-50.4\" y=\"-50.4\" width=\"604.8\" height=\"604.8\" fill=\"rgb(100%, 100%, 100%)\" fill-opacity=\"1\"/>\n",
       "<rect x=\"-50.4\" y=\"-50.4\" width=\"604.8\" height=\"604.8\" fill=\"rgb(100%, 100%, 100%)\" fill-opacity=\"1\"/>\n",
       "<path fill=\"none\" stroke-width=\"1.066978\" stroke-linecap=\"round\" stroke-linejoin=\"round\" stroke=\"rgb(100%, 100%, 100%)\" stroke-opacity=\"1\" stroke-miterlimit=\"10\" d=\"M 0 504 L 504 504 L 504 0 L 0 0 Z M 0 504 \"/>\n",
       "<g clip-path=\"url(#clip-0)\">\n",
       "<path fill-rule=\"nonzero\" fill=\"rgb(92.156863%, 92.156863%, 92.156863%)\" fill-opacity=\"1\" d=\"M 51.152344 464.847656 L 498.523438 464.847656 L 498.523438 27.957031 L 51.152344 27.957031 Z M 51.152344 464.847656 \"/>\n",
       "</g>\n",
       "<g clip-path=\"url(#clip-1)\">\n",
       "<path fill=\"none\" stroke-width=\"0.533489\" stroke-linecap=\"butt\" stroke-linejoin=\"round\" stroke=\"rgb(100%, 100%, 100%)\" stroke-opacity=\"1\" stroke-miterlimit=\"10\" d=\"M 51.152344 421.550781 L 498.519531 421.550781 \"/>\n",
       "</g>\n",
       "<g clip-path=\"url(#clip-2)\">\n",
       "<path fill=\"none\" stroke-width=\"0.533489\" stroke-linecap=\"butt\" stroke-linejoin=\"round\" stroke=\"rgb(100%, 100%, 100%)\" stroke-opacity=\"1\" stroke-miterlimit=\"10\" d=\"M 51.152344 338.769531 L 498.519531 338.769531 \"/>\n",
       "</g>\n",
       "<g clip-path=\"url(#clip-3)\">\n",
       "<path fill=\"none\" stroke-width=\"0.533489\" stroke-linecap=\"butt\" stroke-linejoin=\"round\" stroke=\"rgb(100%, 100%, 100%)\" stroke-opacity=\"1\" stroke-miterlimit=\"10\" d=\"M 51.152344 255.984375 L 498.519531 255.984375 \"/>\n",
       "</g>\n",
       "<g clip-path=\"url(#clip-4)\">\n",
       "<path fill=\"none\" stroke-width=\"0.533489\" stroke-linecap=\"butt\" stroke-linejoin=\"round\" stroke=\"rgb(100%, 100%, 100%)\" stroke-opacity=\"1\" stroke-miterlimit=\"10\" d=\"M 51.152344 173.203125 L 498.519531 173.203125 \"/>\n",
       "</g>\n",
       "<g clip-path=\"url(#clip-5)\">\n",
       "<path fill=\"none\" stroke-width=\"0.533489\" stroke-linecap=\"butt\" stroke-linejoin=\"round\" stroke=\"rgb(100%, 100%, 100%)\" stroke-opacity=\"1\" stroke-miterlimit=\"10\" d=\"M 51.152344 90.421875 L 498.519531 90.421875 \"/>\n",
       "</g>\n",
       "<g clip-path=\"url(#clip-6)\">\n",
       "<path fill=\"none\" stroke-width=\"0.533489\" stroke-linecap=\"butt\" stroke-linejoin=\"round\" stroke=\"rgb(100%, 100%, 100%)\" stroke-opacity=\"1\" stroke-miterlimit=\"10\" d=\"M 115.0625 464.847656 L 115.0625 27.957031 \"/>\n",
       "</g>\n",
       "<g clip-path=\"url(#clip-7)\">\n",
       "<path fill=\"none\" stroke-width=\"0.533489\" stroke-linecap=\"butt\" stroke-linejoin=\"round\" stroke=\"rgb(100%, 100%, 100%)\" stroke-opacity=\"1\" stroke-miterlimit=\"10\" d=\"M 260.3125 464.847656 L 260.3125 27.957031 \"/>\n",
       "</g>\n",
       "<g clip-path=\"url(#clip-8)\">\n",
       "<path fill=\"none\" stroke-width=\"0.533489\" stroke-linecap=\"butt\" stroke-linejoin=\"round\" stroke=\"rgb(100%, 100%, 100%)\" stroke-opacity=\"1\" stroke-miterlimit=\"10\" d=\"M 405.5625 464.847656 L 405.5625 27.957031 \"/>\n",
       "</g>\n",
       "<g clip-path=\"url(#clip-9)\">\n",
       "<path fill=\"none\" stroke-width=\"1.066978\" stroke-linecap=\"butt\" stroke-linejoin=\"round\" stroke=\"rgb(100%, 100%, 100%)\" stroke-opacity=\"1\" stroke-miterlimit=\"10\" d=\"M 51.152344 462.941406 L 498.519531 462.941406 \"/>\n",
       "</g>\n",
       "<g clip-path=\"url(#clip-10)\">\n",
       "<path fill=\"none\" stroke-width=\"1.066978\" stroke-linecap=\"butt\" stroke-linejoin=\"round\" stroke=\"rgb(100%, 100%, 100%)\" stroke-opacity=\"1\" stroke-miterlimit=\"10\" d=\"M 51.152344 380.160156 L 498.519531 380.160156 \"/>\n",
       "</g>\n",
       "<g clip-path=\"url(#clip-11)\">\n",
       "<path fill=\"none\" stroke-width=\"1.066978\" stroke-linecap=\"butt\" stroke-linejoin=\"round\" stroke=\"rgb(100%, 100%, 100%)\" stroke-opacity=\"1\" stroke-miterlimit=\"10\" d=\"M 51.152344 297.378906 L 498.519531 297.378906 \"/>\n",
       "</g>\n",
       "<g clip-path=\"url(#clip-12)\">\n",
       "<path fill=\"none\" stroke-width=\"1.066978\" stroke-linecap=\"butt\" stroke-linejoin=\"round\" stroke=\"rgb(100%, 100%, 100%)\" stroke-opacity=\"1\" stroke-miterlimit=\"10\" d=\"M 51.152344 214.59375 L 498.519531 214.59375 \"/>\n",
       "</g>\n",
       "<g clip-path=\"url(#clip-13)\">\n",
       "<path fill=\"none\" stroke-width=\"1.066978\" stroke-linecap=\"butt\" stroke-linejoin=\"round\" stroke=\"rgb(100%, 100%, 100%)\" stroke-opacity=\"1\" stroke-miterlimit=\"10\" d=\"M 51.152344 131.8125 L 498.519531 131.8125 \"/>\n",
       "</g>\n",
       "<g clip-path=\"url(#clip-14)\">\n",
       "<path fill=\"none\" stroke-width=\"1.066978\" stroke-linecap=\"butt\" stroke-linejoin=\"round\" stroke=\"rgb(100%, 100%, 100%)\" stroke-opacity=\"1\" stroke-miterlimit=\"10\" d=\"M 51.152344 49.03125 L 498.519531 49.03125 \"/>\n",
       "</g>\n",
       "<g clip-path=\"url(#clip-15)\">\n",
       "<path fill=\"none\" stroke-width=\"1.066978\" stroke-linecap=\"butt\" stroke-linejoin=\"round\" stroke=\"rgb(100%, 100%, 100%)\" stroke-opacity=\"1\" stroke-miterlimit=\"10\" d=\"M 187.6875 464.847656 L 187.6875 27.957031 \"/>\n",
       "</g>\n",
       "<g clip-path=\"url(#clip-16)\">\n",
       "<path fill=\"none\" stroke-width=\"1.066978\" stroke-linecap=\"butt\" stroke-linejoin=\"round\" stroke=\"rgb(100%, 100%, 100%)\" stroke-opacity=\"1\" stroke-miterlimit=\"10\" d=\"M 332.9375 464.847656 L 332.9375 27.957031 \"/>\n",
       "</g>\n",
       "<g clip-path=\"url(#clip-17)\">\n",
       "<path fill=\"none\" stroke-width=\"1.066978\" stroke-linecap=\"butt\" stroke-linejoin=\"round\" stroke=\"rgb(100%, 100%, 100%)\" stroke-opacity=\"1\" stroke-miterlimit=\"10\" d=\"M 478.1875 464.847656 L 478.1875 27.957031 \"/>\n",
       "</g>\n",
       "<path fill=\"none\" stroke-width=\"1.066978\" stroke-linecap=\"butt\" stroke-linejoin=\"round\" stroke=\"rgb(0%, 0%, 0%)\" stroke-opacity=\"1\" stroke-miterlimit=\"10\" d=\"M 71.484375 389.800781 L 100.535156 444.992188 L 129.585938 396.65625 L 158.636719 397.445312 L 187.6875 318.605469 L 216.734375 319.390625 L 245.785156 250.679688 L 274.835938 272.753906 L 303.886719 137.816406 L 332.9375 125.082031 L 361.984375 47.816406 L 391.035156 48.726562 L 420.085938 71.589844 L 449.136719 59.644531 L 478.1875 58.855469 \"/>\n",
       "<g fill=\"rgb(30.196078%, 30.196078%, 30.196078%)\" fill-opacity=\"1\">\n",
       "<use xlink:href=\"#glyph-0-0\" x=\"22.21875\" y=\"467.304688\"/>\n",
       "<use xlink:href=\"#glyph-0-1\" x=\"29.21875\" y=\"467.304688\"/>\n",
       "<use xlink:href=\"#glyph-0-2\" x=\"32.21875\" y=\"467.304688\"/>\n",
       "<use xlink:href=\"#glyph-0-3\" x=\"39.21875\" y=\"467.304688\"/>\n",
       "</g>\n",
       "<g fill=\"rgb(30.196078%, 30.196078%, 30.196078%)\" fill-opacity=\"1\">\n",
       "<use xlink:href=\"#glyph-0-0\" x=\"22.21875\" y=\"384.523438\"/>\n",
       "<use xlink:href=\"#glyph-0-1\" x=\"29.21875\" y=\"384.523438\"/>\n",
       "<use xlink:href=\"#glyph-0-3\" x=\"32.21875\" y=\"384.523438\"/>\n",
       "<use xlink:href=\"#glyph-0-0\" x=\"39.21875\" y=\"384.523438\"/>\n",
       "</g>\n",
       "<g fill=\"rgb(30.196078%, 30.196078%, 30.196078%)\" fill-opacity=\"1\">\n",
       "<use xlink:href=\"#glyph-0-0\" x=\"22.21875\" y=\"301.742188\"/>\n",
       "<use xlink:href=\"#glyph-0-1\" x=\"29.21875\" y=\"301.742188\"/>\n",
       "<use xlink:href=\"#glyph-0-3\" x=\"32.21875\" y=\"301.742188\"/>\n",
       "<use xlink:href=\"#glyph-0-3\" x=\"39.21875\" y=\"301.742188\"/>\n",
       "</g>\n",
       "<g fill=\"rgb(30.196078%, 30.196078%, 30.196078%)\" fill-opacity=\"1\">\n",
       "<use xlink:href=\"#glyph-0-0\" x=\"22.21875\" y=\"218.957031\"/>\n",
       "<use xlink:href=\"#glyph-0-1\" x=\"29.21875\" y=\"218.957031\"/>\n",
       "<use xlink:href=\"#glyph-0-4\" x=\"32.21875\" y=\"218.957031\"/>\n",
       "<use xlink:href=\"#glyph-0-0\" x=\"39.21875\" y=\"218.957031\"/>\n",
       "</g>\n",
       "<g fill=\"rgb(30.196078%, 30.196078%, 30.196078%)\" fill-opacity=\"1\">\n",
       "<use xlink:href=\"#glyph-0-0\" x=\"22.21875\" y=\"136.175781\"/>\n",
       "<use xlink:href=\"#glyph-0-1\" x=\"29.21875\" y=\"136.175781\"/>\n",
       "<use xlink:href=\"#glyph-0-4\" x=\"32.21875\" y=\"136.175781\"/>\n",
       "<use xlink:href=\"#glyph-0-3\" x=\"39.21875\" y=\"136.175781\"/>\n",
       "</g>\n",
       "<g fill=\"rgb(30.196078%, 30.196078%, 30.196078%)\" fill-opacity=\"1\">\n",
       "<use xlink:href=\"#glyph-0-0\" x=\"22.21875\" y=\"53.394531\"/>\n",
       "<use xlink:href=\"#glyph-0-1\" x=\"29.21875\" y=\"53.394531\"/>\n",
       "<use xlink:href=\"#glyph-0-5\" x=\"32.21875\" y=\"53.394531\"/>\n",
       "<use xlink:href=\"#glyph-0-0\" x=\"39.21875\" y=\"53.394531\"/>\n",
       "</g>\n",
       "<path fill=\"none\" stroke-width=\"1.066978\" stroke-linecap=\"butt\" stroke-linejoin=\"round\" stroke=\"rgb(20%, 20%, 20%)\" stroke-opacity=\"1\" stroke-miterlimit=\"10\" d=\"M 48.410156 462.941406 L 51.152344 462.941406 \"/>\n",
       "<path fill=\"none\" stroke-width=\"1.066978\" stroke-linecap=\"butt\" stroke-linejoin=\"round\" stroke=\"rgb(20%, 20%, 20%)\" stroke-opacity=\"1\" stroke-miterlimit=\"10\" d=\"M 48.410156 380.160156 L 51.152344 380.160156 \"/>\n",
       "<path fill=\"none\" stroke-width=\"1.066978\" stroke-linecap=\"butt\" stroke-linejoin=\"round\" stroke=\"rgb(20%, 20%, 20%)\" stroke-opacity=\"1\" stroke-miterlimit=\"10\" d=\"M 48.410156 297.378906 L 51.152344 297.378906 \"/>\n",
       "<path fill=\"none\" stroke-width=\"1.066978\" stroke-linecap=\"butt\" stroke-linejoin=\"round\" stroke=\"rgb(20%, 20%, 20%)\" stroke-opacity=\"1\" stroke-miterlimit=\"10\" d=\"M 48.410156 214.59375 L 51.152344 214.59375 \"/>\n",
       "<path fill=\"none\" stroke-width=\"1.066978\" stroke-linecap=\"butt\" stroke-linejoin=\"round\" stroke=\"rgb(20%, 20%, 20%)\" stroke-opacity=\"1\" stroke-miterlimit=\"10\" d=\"M 48.410156 131.8125 L 51.152344 131.8125 \"/>\n",
       "<path fill=\"none\" stroke-width=\"1.066978\" stroke-linecap=\"butt\" stroke-linejoin=\"round\" stroke=\"rgb(20%, 20%, 20%)\" stroke-opacity=\"1\" stroke-miterlimit=\"10\" d=\"M 48.410156 49.03125 L 51.152344 49.03125 \"/>\n",
       "<path fill=\"none\" stroke-width=\"1.066978\" stroke-linecap=\"butt\" stroke-linejoin=\"round\" stroke=\"rgb(20%, 20%, 20%)\" stroke-opacity=\"1\" stroke-miterlimit=\"10\" d=\"M 187.6875 467.589844 L 187.6875 464.847656 \"/>\n",
       "<path fill=\"none\" stroke-width=\"1.066978\" stroke-linecap=\"butt\" stroke-linejoin=\"round\" stroke=\"rgb(20%, 20%, 20%)\" stroke-opacity=\"1\" stroke-miterlimit=\"10\" d=\"M 332.9375 467.589844 L 332.9375 464.847656 \"/>\n",
       "<path fill=\"none\" stroke-width=\"1.066978\" stroke-linecap=\"butt\" stroke-linejoin=\"round\" stroke=\"rgb(20%, 20%, 20%)\" stroke-opacity=\"1\" stroke-miterlimit=\"10\" d=\"M 478.1875 467.589844 L 478.1875 464.847656 \"/>\n",
       "<g fill=\"rgb(30.196078%, 30.196078%, 30.196078%)\" fill-opacity=\"1\">\n",
       "<use xlink:href=\"#glyph-0-3\" x=\"184.1875\" y=\"478.644531\"/>\n",
       "</g>\n",
       "<g fill=\"rgb(30.196078%, 30.196078%, 30.196078%)\" fill-opacity=\"1\">\n",
       "<use xlink:href=\"#glyph-0-6\" x=\"325.9375\" y=\"478.644531\"/>\n",
       "<use xlink:href=\"#glyph-0-0\" x=\"332.9375\" y=\"478.644531\"/>\n",
       "</g>\n",
       "<g fill=\"rgb(30.196078%, 30.196078%, 30.196078%)\" fill-opacity=\"1\">\n",
       "<use xlink:href=\"#glyph-0-6\" x=\"471.1875\" y=\"478.644531\"/>\n",
       "<use xlink:href=\"#glyph-0-3\" x=\"478.1875\" y=\"478.644531\"/>\n",
       "</g>\n",
       "<g fill=\"rgb(0%, 0%, 0%)\" fill-opacity=\"1\">\n",
       "<use xlink:href=\"#glyph-1-0\" x=\"241.335938\" y=\"495.098633\"/>\n",
       "<use xlink:href=\"#glyph-1-1\" x=\"252.335938\" y=\"495.098633\"/>\n",
       "<use xlink:href=\"#glyph-1-2\" x=\"260.335938\" y=\"495.098633\"/>\n",
       "<use xlink:href=\"#glyph-1-3\" x=\"263.335938\" y=\"495.098633\"/>\n",
       "<use xlink:href=\"#glyph-1-4\" x=\"271.335938\" y=\"495.098633\"/>\n",
       "<use xlink:href=\"#glyph-1-5\" x=\"279.335938\" y=\"495.098633\"/>\n",
       "<use xlink:href=\"#glyph-1-6\" x=\"287.335938\" y=\"495.098633\"/>\n",
       "<use xlink:href=\"#glyph-1-7\" x=\"295.335938\" y=\"495.098633\"/>\n",
       "<use xlink:href=\"#glyph-1-8\" x=\"300.335938\" y=\"495.098633\"/>\n",
       "</g>\n",
       "<g fill=\"rgb(0%, 0%, 0%)\" fill-opacity=\"1\">\n",
       "<use xlink:href=\"#glyph-2-0\" x=\"16.05957\" y=\"308.402344\"/>\n",
       "<use xlink:href=\"#glyph-2-1\" x=\"16.05957\" y=\"298.402344\"/>\n",
       "<use xlink:href=\"#glyph-2-1\" x=\"16.05957\" y=\"290.402344\"/>\n",
       "<use xlink:href=\"#glyph-2-2\" x=\"16.05957\" y=\"282.402344\"/>\n",
       "<use xlink:href=\"#glyph-2-3\" x=\"16.05957\" y=\"274.402344\"/>\n",
       "<use xlink:href=\"#glyph-2-4\" x=\"16.05957\" y=\"269.402344\"/>\n",
       "<use xlink:href=\"#glyph-2-1\" x=\"16.05957\" y=\"261.402344\"/>\n",
       "<use xlink:href=\"#glyph-2-5\" x=\"16.05957\" y=\"253.402344\"/>\n",
       "<use xlink:href=\"#glyph-2-6\" x=\"16.05957\" y=\"245.402344\"/>\n",
       "<use xlink:href=\"#glyph-2-7\" x=\"16.05957\" y=\"241.402344\"/>\n",
       "<use xlink:href=\"#glyph-2-8\" x=\"16.05957\" y=\"231.402344\"/>\n",
       "<use xlink:href=\"#glyph-2-9\" x=\"16.05957\" y=\"223.402344\"/>\n",
       "<use xlink:href=\"#glyph-2-10\" x=\"16.05957\" y=\"219.402344\"/>\n",
       "<use xlink:href=\"#glyph-2-11\" x=\"16.05957\" y=\"216.402344\"/>\n",
       "<use xlink:href=\"#glyph-2-4\" x=\"16.05957\" y=\"204.402344\"/>\n",
       "<use xlink:href=\"#glyph-2-9\" x=\"16.05957\" y=\"196.402344\"/>\n",
       "<use xlink:href=\"#glyph-2-12\" x=\"16.05957\" y=\"192.402344\"/>\n",
       "</g>\n",
       "<g fill=\"rgb(0%, 0%, 0%)\" fill-opacity=\"1\">\n",
       "<use xlink:href=\"#glyph-3-0\" x=\"51.152344\" y=\"17.775391\"/>\n",
       "<use xlink:href=\"#glyph-3-1\" x=\"63.152344\" y=\"17.775391\"/>\n",
       "<use xlink:href=\"#glyph-3-1\" x=\"72.152344\" y=\"17.775391\"/>\n",
       "<use xlink:href=\"#glyph-3-2\" x=\"81.152344\" y=\"17.775391\"/>\n",
       "<use xlink:href=\"#glyph-3-3\" x=\"91.152344\" y=\"17.775391\"/>\n",
       "<use xlink:href=\"#glyph-3-4\" x=\"97.152344\" y=\"17.775391\"/>\n",
       "<use xlink:href=\"#glyph-3-1\" x=\"107.152344\" y=\"17.775391\"/>\n",
       "<use xlink:href=\"#glyph-3-5\" x=\"116.152344\" y=\"17.775391\"/>\n",
       "<use xlink:href=\"#glyph-3-6\" x=\"120.152344\" y=\"17.775391\"/>\n",
       "<use xlink:href=\"#glyph-3-7\" x=\"130.152344\" y=\"17.775391\"/>\n",
       "<use xlink:href=\"#glyph-3-8\" x=\"139.152344\" y=\"17.775391\"/>\n",
       "<use xlink:href=\"#glyph-3-9\" x=\"144.152344\" y=\"17.775391\"/>\n",
       "<use xlink:href=\"#glyph-3-10\" x=\"149.152344\" y=\"17.775391\"/>\n",
       "<use xlink:href=\"#glyph-3-3\" x=\"159.152344\" y=\"17.775391\"/>\n",
       "<use xlink:href=\"#glyph-3-8\" x=\"165.152344\" y=\"17.775391\"/>\n",
       "<use xlink:href=\"#glyph-3-11\" x=\"170.152344\" y=\"17.775391\"/>\n",
       "<use xlink:href=\"#glyph-3-8\" x=\"180.152344\" y=\"17.775391\"/>\n",
       "<use xlink:href=\"#glyph-3-12\" x=\"185.152344\" y=\"17.775391\"/>\n",
       "<use xlink:href=\"#glyph-3-8\" x=\"195.152344\" y=\"17.775391\"/>\n",
       "<use xlink:href=\"#glyph-3-13\" x=\"200.152344\" y=\"17.775391\"/>\n",
       "<use xlink:href=\"#glyph-3-8\" x=\"209.152344\" y=\"17.775391\"/>\n",
       "<use xlink:href=\"#glyph-3-12\" x=\"214.152344\" y=\"17.775391\"/>\n",
       "<use xlink:href=\"#glyph-3-8\" x=\"224.152344\" y=\"17.775391\"/>\n",
       "<use xlink:href=\"#glyph-3-11\" x=\"229.152344\" y=\"17.775391\"/>\n",
       "<use xlink:href=\"#glyph-3-14\" x=\"239.152344\" y=\"17.775391\"/>\n",
       "</g>\n",
       "</svg>\n"
      ],
      "text/plain": [
       "plot without title"
      ]
     },
     "metadata": {
      "application/pdf": {
       "height": 420,
       "width": 420
      },
      "image/jpeg": {
       "height": 420,
       "width": 420
      },
      "image/png": {
       "height": 420,
       "width": 420
      },
      "image/svg+xml": {
       "height": 420,
       "isolated": true,
       "width": 420
      }
     },
     "output_type": "display_data"
    }
   ],
   "source": [
    "accuracy_versus_k <- ggplot(knn_results, aes(x = neighbors, y = mean))+\n",
    "      geom_line() +\n",
    "      labs(x = \"Neighbors\", y = \"Accuracy Estimate\", title = \"Accuracies for 1 ≤ k ≤ 15\") +\n",
    "      scale_x_continuous(breaks = seq(0, 100, by = 5)) + \n",
    "      theme(text = element_text(size = 15))\n",
    "\n",
    "accuracy_versus_k"
   ]
  },
  {
   "cell_type": "markdown",
   "id": "eeacb0db-7d59-4a6f-87b7-abfac96b7e97",
   "metadata": {},
   "source": [
    "### Building the Model with K=11\n",
    "\n",
    "The KNN model is specified using k=11. This final model will be trained on the full training data set using the fit() function, which will be prepared for use in making predictions for the test set."
   ]
  },
  {
   "cell_type": "code",
   "execution_count": 228,
   "id": "0beae33f-757c-4553-9997-16693475c70a",
   "metadata": {},
   "outputs": [
    {
     "data": {
      "text/plain": [
       "══ Workflow [trained] ══════════════════════════════════════════════════════════\n",
       "\u001b[3mPreprocessor:\u001b[23m Recipe\n",
       "\u001b[3mModel:\u001b[23m nearest_neighbor()\n",
       "\n",
       "── Preprocessor ────────────────────────────────────────────────────────────────\n",
       "2 Recipe Steps\n",
       "\n",
       "• step_dummy()\n",
       "• step_normalize()\n",
       "\n",
       "── Model ───────────────────────────────────────────────────────────────────────\n",
       "\n",
       "Call:\n",
       "kknn::train.kknn(formula = ..y ~ ., data = data, ks = min_rows(11,     data, 5), kernel = ~\"rectangular\")\n",
       "\n",
       "Type of response variable: nominal\n",
       "Minimal misclassification: 0.2993197\n",
       "Best kernel: rectangular\n",
       "Best k: 11"
      ]
     },
     "metadata": {},
     "output_type": "display_data"
    }
   ],
   "source": [
    "players_k_spec <- nearest_neighbor(weight_func=\"rectangular\", neighbors = 11)%>%\n",
    "    set_engine(\"kknn\")%>%\n",
    "    set_mode(\"classification\")\n",
    "\n",
    "players_fit <- workflow()%>%\n",
    "    add_recipe(players_recipe)%>%\n",
    "    add_model(players_k_spec)%>%\n",
    "    fit(data = players_training)\n",
    "players_fit"
   ]
  },
  {
   "cell_type": "markdown",
   "id": "f21a1da7-0106-4154-a97c-93214cf857ef",
   "metadata": {},
   "source": [
    "### Final Model Evaluation\n",
    "After training the final K-nearest neighbors model with k=11, its performance was evaluated on the testing dataset to assess generalization to unseen data.\n",
    "\n",
    "Model performance was assessed using the metrics() function, focusing on classification accuracy as the main metric. Accuracy was calculated by comparing the model's predicted class labels to the true subscription values in the testing dataset. The model achieved an accuracy of approximately 69.39% on the testing data. This indicates that the model correctly predicted newsletter subscription status for about 69% of the players in the test set."
   ]
  },
  {
   "cell_type": "code",
   "execution_count": 232,
   "id": "2a86306d-f905-468d-a70a-b6c82ef13f25",
   "metadata": {},
   "outputs": [
    {
     "data": {
      "text/html": [
       "<table class=\"dataframe\">\n",
       "<caption>A tibble: 1 × 3</caption>\n",
       "<thead>\n",
       "\t<tr><th scope=col>.metric</th><th scope=col>.estimator</th><th scope=col>.estimate</th></tr>\n",
       "\t<tr><th scope=col>&lt;chr&gt;</th><th scope=col>&lt;chr&gt;</th><th scope=col>&lt;dbl&gt;</th></tr>\n",
       "</thead>\n",
       "<tbody>\n",
       "\t<tr><td>accuracy</td><td>binary</td><td>0.6938776</td></tr>\n",
       "</tbody>\n",
       "</table>\n"
      ],
      "text/latex": [
       "A tibble: 1 × 3\n",
       "\\begin{tabular}{lll}\n",
       " .metric & .estimator & .estimate\\\\\n",
       " <chr> & <chr> & <dbl>\\\\\n",
       "\\hline\n",
       "\t accuracy & binary & 0.6938776\\\\\n",
       "\\end{tabular}\n"
      ],
      "text/markdown": [
       "\n",
       "A tibble: 1 × 3\n",
       "\n",
       "| .metric &lt;chr&gt; | .estimator &lt;chr&gt; | .estimate &lt;dbl&gt; |\n",
       "|---|---|---|\n",
       "| accuracy | binary | 0.6938776 |\n",
       "\n"
      ],
      "text/plain": [
       "  .metric  .estimator .estimate\n",
       "1 accuracy binary     0.6938776"
      ]
     },
     "metadata": {},
     "output_type": "display_data"
    }
   ],
   "source": [
    "players_testing_predict <- predict(players_fit, players_testing) %>%\n",
    "               bind_cols(players_testing) \n",
    "players_testing_metrics<- players_testing_predict %>%\n",
    "               metrics(truth = subscribe, estimate = .pred_class) %>%\n",
    "    filter(.metric == \"accuracy\")\n",
    "players_testing_metrics"
   ]
  },
  {
   "cell_type": "markdown",
   "id": "7fc4254e-8410-4e44-9f1f-0ab8d4b6c639",
   "metadata": {},
   "source": [
    "### Confusion Matrix\n",
    "\n",
    "To further evaluate the performance of the final K-nearest neighbors classification model, a confusion matrix was generated using the conf_mat() function. This matrix provides insight into the model's classification behavior beyond overall accuracy. While the model is better at identifying positive cases (subscriptions), the false positive rate indicates a tendency to over-predict the majority class. This is consistent with the moderate class imbalance observed in the dataset. "
   ]
  },
  {
   "cell_type": "code",
   "execution_count": 233,
   "id": "25b6226a-5c5c-4c3b-af1b-5e3ff0a886a9",
   "metadata": {},
   "outputs": [
    {
     "data": {
      "text/plain": [
       "          Truth\n",
       "Prediction FALSE TRUE\n",
       "     FALSE     5    7\n",
       "     TRUE      8   29"
      ]
     },
     "metadata": {},
     "output_type": "display_data"
    }
   ],
   "source": [
    "conf_mat<- players_testing_predict %>%\n",
    "    conf_mat(truth = subscribe, estimate = .pred_class)\n",
    "conf_mat"
   ]
  },
  {
   "cell_type": "markdown",
   "id": "e2619b77-3061-40f3-81ef-d00baa303839",
   "metadata": {},
   "source": [
    "## Discussion\n",
    "\n",
    "The KNN classification model developed in this analysis achieved an overall accuracy of approximately 69.4% when applied to unknown data from the testing set. This suggests that the model was not very successful in predicting whether a player subscribes to a game related newsletter using two predictors: total hours played and experience level. The confusion matrix shows a bias towards predicting \"subscribe=TRUE\", which aligns with the fact that the majority of the players in the data set were actually subscribers. This imbalance likely influenced the model’s prediction behavior, leading to a higher number of false positives than expected.\n",
    "\n",
    "This outcome is partially in line with expectations that subscribers who on average had more hours played showed relatively higher engagement levels. However, the poor accuracy and misclassifications suggest that played_hours and experience level alone are not sufficient for an accurate prediction. Additional unobserved factors, such as player satisfaction could improve the classification if included.\n",
    "\n",
    "The implications of these findings could be relevant for game marketing teams, who may use similar models to predict player engagement and improve marketing strategies. Being able to better identify likely subscribers could enhance communication effectiveness and increase player retention.\n",
    "\n",
    "One main future questions to consider would be to incorporate additional behavioral metrics such as player satisfaction or time between sessions could improve predictive power. Overall, while the current model demonstrates promising direction, it also highlights the limitations of using these two predictors to predict newsletter subscribers."
   ]
  }
 ],
 "metadata": {
  "kernelspec": {
   "display_name": "R",
   "language": "R",
   "name": "ir"
  },
  "language_info": {
   "codemirror_mode": "r",
   "file_extension": ".r",
   "mimetype": "text/x-r-source",
   "name": "R",
   "pygments_lexer": "r",
   "version": "4.3.3"
  }
 },
 "nbformat": 4,
 "nbformat_minor": 5
}
